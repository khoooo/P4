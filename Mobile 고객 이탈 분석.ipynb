{
 "cells": [
  {
   "cell_type": "markdown",
   "metadata": {
    "id": "mTt7qGUTCcFs"
   },
   "source": [
    "# 과제2. Mobile 고객 이탈 분석"
   ]
  },
  {
   "cell_type": "markdown",
   "metadata": {
    "id": "wxRsRRwbEQ2K"
   },
   "source": [
    "* 고객 이탈여부(CHURN)에 영향을 주는 요인을 분석하고자 합니다."
   ]
  },
  {
   "cell_type": "markdown",
   "metadata": {
    "id": "0wuYJKZHjA3d"
   },
   "source": [
    "![](https://d18lkz4dllo6v2.cloudfront.net/cumulus_uploads/entry/23964/mobile%20phones.png)"
   ]
  },
  {
   "cell_type": "markdown",
   "metadata": {
    "id": "AHmt88Q5EVsj"
   },
   "source": [
    "## 0.환경설정"
   ]
  },
  {
   "cell_type": "markdown",
   "metadata": {
    "id": "KnzVh2LmkLDU"
   },
   "source": [
    "### 1) 라이브러리 로딩"
   ]
  },
  {
   "cell_type": "code",
   "execution_count": 156,
   "metadata": {
    "id": "3rsQerEaELwI"
   },
   "outputs": [],
   "source": [
    "import pandas as pd\n",
    "import numpy as np\n",
    "import matplotlib.pyplot as plt\n",
    "import seaborn as sns\n",
    "\n",
    "from statsmodels.graphics.mosaicplot import mosaic\n",
    "from scipy import stats as spst\n",
    "import statsmodels.api as sm"
   ]
  },
  {
   "cell_type": "markdown",
   "metadata": {
    "id": "5Qh5KYWokO_N"
   },
   "source": [
    "### 2) 데이터 로딩"
   ]
  },
  {
   "cell_type": "code",
   "execution_count": 157,
   "metadata": {
    "id": "lM3HN6OwEL3d"
   },
   "outputs": [
    {
     "data": {
      "text/html": [
       "<div>\n",
       "<style scoped>\n",
       "    .dataframe tbody tr th:only-of-type {\n",
       "        vertical-align: middle;\n",
       "    }\n",
       "\n",
       "    .dataframe tbody tr th {\n",
       "        vertical-align: top;\n",
       "    }\n",
       "\n",
       "    .dataframe thead th {\n",
       "        text-align: right;\n",
       "    }\n",
       "</style>\n",
       "<table border=\"1\" class=\"dataframe\">\n",
       "  <thead>\n",
       "    <tr style=\"text-align: right;\">\n",
       "      <th></th>\n",
       "      <th>COLLEGE</th>\n",
       "      <th>INCOME</th>\n",
       "      <th>OVERAGE</th>\n",
       "      <th>LEFTOVER</th>\n",
       "      <th>HOUSE</th>\n",
       "      <th>HANDSET_PRICE</th>\n",
       "      <th>AVERAGE_CALL_DURATION</th>\n",
       "      <th>REPORTED_SATISFACTION</th>\n",
       "      <th>CONSIDERING_CHANGE_OF_PLAN</th>\n",
       "      <th>CHURN</th>\n",
       "    </tr>\n",
       "  </thead>\n",
       "  <tbody>\n",
       "    <tr>\n",
       "      <th>0</th>\n",
       "      <td>1</td>\n",
       "      <td>47711</td>\n",
       "      <td>183</td>\n",
       "      <td>17</td>\n",
       "      <td>730589.0</td>\n",
       "      <td>192</td>\n",
       "      <td>5</td>\n",
       "      <td>unsat</td>\n",
       "      <td>considering</td>\n",
       "      <td>0</td>\n",
       "    </tr>\n",
       "    <tr>\n",
       "      <th>1</th>\n",
       "      <td>0</td>\n",
       "      <td>74132</td>\n",
       "      <td>191</td>\n",
       "      <td>43</td>\n",
       "      <td>535092.0</td>\n",
       "      <td>349</td>\n",
       "      <td>2</td>\n",
       "      <td>unsat</td>\n",
       "      <td>no</td>\n",
       "      <td>1</td>\n",
       "    </tr>\n",
       "    <tr>\n",
       "      <th>2</th>\n",
       "      <td>1</td>\n",
       "      <td>150419</td>\n",
       "      <td>0</td>\n",
       "      <td>14</td>\n",
       "      <td>204004.0</td>\n",
       "      <td>682</td>\n",
       "      <td>6</td>\n",
       "      <td>unsat</td>\n",
       "      <td>considering</td>\n",
       "      <td>0</td>\n",
       "    </tr>\n",
       "    <tr>\n",
       "      <th>3</th>\n",
       "      <td>0</td>\n",
       "      <td>159567</td>\n",
       "      <td>0</td>\n",
       "      <td>58</td>\n",
       "      <td>281969.0</td>\n",
       "      <td>634</td>\n",
       "      <td>1</td>\n",
       "      <td>very_unsat</td>\n",
       "      <td>never_thought</td>\n",
       "      <td>0</td>\n",
       "    </tr>\n",
       "    <tr>\n",
       "      <th>4</th>\n",
       "      <td>1</td>\n",
       "      <td>23392</td>\n",
       "      <td>0</td>\n",
       "      <td>0</td>\n",
       "      <td>216707.0</td>\n",
       "      <td>233</td>\n",
       "      <td>15</td>\n",
       "      <td>unsat</td>\n",
       "      <td>no</td>\n",
       "      <td>1</td>\n",
       "    </tr>\n",
       "  </tbody>\n",
       "</table>\n",
       "</div>"
      ],
      "text/plain": [
       "   COLLEGE  INCOME  OVERAGE  LEFTOVER     HOUSE  HANDSET_PRICE  \\\n",
       "0        1   47711      183        17  730589.0            192   \n",
       "1        0   74132      191        43  535092.0            349   \n",
       "2        1  150419        0        14  204004.0            682   \n",
       "3        0  159567        0        58  281969.0            634   \n",
       "4        1   23392        0         0  216707.0            233   \n",
       "\n",
       "   AVERAGE_CALL_DURATION REPORTED_SATISFACTION CONSIDERING_CHANGE_OF_PLAN  \\\n",
       "0                      5                 unsat                considering   \n",
       "1                      2                 unsat                         no   \n",
       "2                      6                 unsat                considering   \n",
       "3                      1            very_unsat              never_thought   \n",
       "4                     15                 unsat                         no   \n",
       "\n",
       "   CHURN  \n",
       "0      0  \n",
       "1      1  \n",
       "2      0  \n",
       "3      0  \n",
       "4      1  "
      ]
     },
     "execution_count": 157,
     "metadata": {},
     "output_type": "execute_result"
    }
   ],
   "source": [
    "# mobile data\n",
    "data_path = \"https://raw.githubusercontent.com/DA4BAM/dataset/master/mobile_NA2.csv\"\n",
    "mobile = pd.read_csv(data_path)\n",
    "mobile.drop(['id', 'REPORTED_USAGE_LEVEL','OVER_15MINS_CALLS_PER_MONTH'], axis = 1, inplace = True)\n",
    "mobile.head()"
   ]
  },
  {
   "cell_type": "markdown",
   "metadata": {
    "id": "JtiF310fjmJy"
   },
   "source": [
    "|변수 명|내용|구분|\n",
    "|\t----\t|\t----\t|\t----\t|\n",
    "|\tCOLLEGE\t|\t대학졸업 여부(1,0)\t|feature\t\t|\n",
    "|\tINCOME\t|\t연 수입액(달러)\t|feature\t\t|\n",
    "|\tOVERAGE\t|\t월 초과사용 시간(분)\t|feature\t\t|\n",
    "|\tLEFTOVER\t|\t월 사용 잔여시간(분)\t|feature\t\t|\n",
    "|\tHOUSE\t|\t집 가격(달러)\t|feature\t\t|\n",
    "|\tHANDSET_PRICE\t|\t핸드폰 가격(달러)\t|feature\t\t|\n",
    "|\tAVERAGE_CALL_DURATION\t|\t평균 통화시간(분)\t|feature\t\t|\n",
    "|\tREPORTED_SATISFACTION\t|\t만족도 설문('very_unsat', 'unsat', 'avg', 'sat', 'very_sat' )\t|feature\t\t|\n",
    "|\tCONSIDERING_CHANGE_OF_PLAN\t|\t변경 계획 설문('never_thought', 'no', 'perhaps', 'considering',   'actively_looking_into_it')\t|feature\t\t|\n",
    "|\t**CHURN**\t|\t**이탈여부(1 : 이탈, 0 : 잔류)**\t|\t**Target**\t|\n"
   ]
  },
  {
   "cell_type": "markdown",
   "metadata": {
    "id": "bKimk8qVm8oC"
   },
   "source": [
    "----"
   ]
  },
  {
   "cell_type": "markdown",
   "metadata": {
    "id": "0bouXLxGkSSd"
   },
   "source": [
    "## 1.가설수립"
   ]
  },
  {
   "cell_type": "markdown",
   "metadata": {
    "id": "nb3mes75kUSt"
   },
   "source": [
    "* 여기서는 가설을 간략히 수립합니다.\n",
    "    * 숫자형, 범주형 각각 최소 2개 이상씩, 전체 5개의 feature를 도출, 가설을 수립하시오."
   ]
  },
  {
   "cell_type": "markdown",
   "metadata": {
    "id": "HoZUdXCRkjK9"
   },
   "source": [
    "* 가설1 : 만족도 설문이 이탈여부에 영향을 미칠 것이다."
   ]
  },
  {
   "cell_type": "markdown",
   "metadata": {
    "id": "l9X_boJ8kjEt"
   },
   "source": [
    "* 가설2 : 변경 계획 설문이 이탈여부에 영향을 미칠 것이다."
   ]
  },
  {
   "cell_type": "markdown",
   "metadata": {
    "id": "3_gTMgCWki91"
   },
   "source": [
    "* 가설3 : 월 초과사용 시간(분)이 이탈여부에 영향을 미칠 것이다."
   ]
  },
  {
   "cell_type": "markdown",
   "metadata": {
    "id": "rSrSFnsVki2d"
   },
   "source": [
    "* 가설4 : 평균 통화시간(분)이 이탈여부에 영향을 미칠 것이다."
   ]
  },
  {
   "cell_type": "markdown",
   "metadata": {
    "id": "2lueFYjWktYt"
   },
   "source": [
    "* 가설5 : 월 사용 잔여시간(분)이 이탈여부에 영향을 미칠 것이다."
   ]
  },
  {
   "cell_type": "markdown",
   "metadata": {
    "id": "82xzJIZhnAaX"
   },
   "source": [
    "----"
   ]
  },
  {
   "cell_type": "markdown",
   "metadata": {
    "id": "1hYPpnplEedX"
   },
   "source": [
    "## 2.단변량 분석\n",
    "\n",
    "① 변수의 비즈니스 의미  \n",
    "\n",
    "② 숫자? 범주?  \n",
    "\n",
    "③ NaN 존재 여부 및 조치 방안  \n",
    "\n",
    "④ 기초통계량  \n",
    "\n",
    "⑤ 분포  \n",
    "\n",
    "⑥ 위 정보로부터 파악한 내용(비즈니스!) 정리  \n",
    "\n",
    "⑦ 추가 분석해볼 사항 도출"
   ]
  },
  {
   "cell_type": "markdown",
   "metadata": {
    "id": "BP8iBi7We3AI"
   },
   "source": [
    "### 1) feature1 : REPORTED_SATISFACTION"
   ]
  },
  {
   "cell_type": "markdown",
   "metadata": {
    "id": "NRIsridhK3el"
   },
   "source": [
    "> REPORTED_SATISFACTION : 만족도 설문"
   ]
  },
  {
   "cell_type": "markdown",
   "metadata": {
    "id": "6H1XUqWEIZ0c"
   },
   "source": [
    "① 변수의 비즈니스 의미"
   ]
  },
  {
   "cell_type": "markdown",
   "metadata": {
    "id": "b8mX3ll_KR6u"
   },
   "source": [
    "> 만족도 설문"
   ]
  },
  {
   "cell_type": "markdown",
   "metadata": {
    "id": "o9aiDpJZIZi-"
   },
   "source": [
    "② 숫자, 범주?"
   ]
  },
  {
   "cell_type": "markdown",
   "metadata": {
    "id": "fNO_u8-RKS0K"
   },
   "source": [
    "> 범주형"
   ]
  },
  {
   "cell_type": "markdown",
   "metadata": {
    "id": "sKZWnu78IZT0"
   },
   "source": [
    "③ NaN 존재 유무"
   ]
  },
  {
   "cell_type": "code",
   "execution_count": 158,
   "metadata": {
    "id": "dt2entFrKUC6"
   },
   "outputs": [
    {
     "data": {
      "text/plain": [
       "38"
      ]
     },
     "execution_count": 158,
     "metadata": {},
     "output_type": "execute_result"
    }
   ],
   "source": [
    "mobile['REPORTED_SATISFACTION'].isnull().sum()"
   ]
  },
  {
   "cell_type": "code",
   "execution_count": 159,
   "metadata": {},
   "outputs": [
    {
     "name": "stdout",
     "output_type": "stream",
     "text": [
      "<class 'pandas.core.frame.DataFrame'>\n",
      "RangeIndex: 18000 entries, 0 to 17999\n",
      "Data columns (total 10 columns):\n",
      " #   Column                      Non-Null Count  Dtype  \n",
      "---  ------                      --------------  -----  \n",
      " 0   COLLEGE                     18000 non-null  int64  \n",
      " 1   INCOME                      18000 non-null  int64  \n",
      " 2   OVERAGE                     18000 non-null  int64  \n",
      " 3   LEFTOVER                    18000 non-null  int64  \n",
      " 4   HOUSE                       17785 non-null  float64\n",
      " 5   HANDSET_PRICE               18000 non-null  int64  \n",
      " 6   AVERAGE_CALL_DURATION       18000 non-null  int64  \n",
      " 7   REPORTED_SATISFACTION       17962 non-null  object \n",
      " 8   CONSIDERING_CHANGE_OF_PLAN  18000 non-null  object \n",
      " 9   CHURN                       18000 non-null  int64  \n",
      "dtypes: float64(1), int64(7), object(2)\n",
      "memory usage: 1.4+ MB\n"
     ]
    }
   ],
   "source": [
    "mobile.info()"
   ]
  },
  {
   "cell_type": "code",
   "execution_count": null,
   "metadata": {},
   "outputs": [],
   "source": []
  },
  {
   "cell_type": "markdown",
   "metadata": {
    "id": "5d5JYEBCIZID"
   },
   "source": [
    "④ 기초통계량(수치화)"
   ]
  },
  {
   "cell_type": "code",
   "execution_count": 160,
   "metadata": {
    "id": "ZMfWNGxCKVbT"
   },
   "outputs": [
    {
     "data": {
      "text/plain": [
       "very_unsat    7072\n",
       "very_sat      4562\n",
       "unsat         3590\n",
       "avg           1806\n",
       "sat            932\n",
       "Name: REPORTED_SATISFACTION, dtype: int64"
      ]
     },
     "execution_count": 160,
     "metadata": {},
     "output_type": "execute_result"
    }
   ],
   "source": [
    "mobile['REPORTED_SATISFACTION'].value_counts()"
   ]
  },
  {
   "cell_type": "markdown",
   "metadata": {
    "id": "e1yzg_B8IY5M"
   },
   "source": [
    "⑤ 분포 확인(시각화)"
   ]
  },
  {
   "cell_type": "code",
   "execution_count": 161,
   "metadata": {
    "id": "VeBHcQH9KXG7"
   },
   "outputs": [
    {
     "data": {
      "image/png": "[encoded data removed]",
      "text/plain": [
       "<Figure size 432x288 with 1 Axes>"
      ]
     },
     "metadata": {
      "needs_background": "light"
     },
     "output_type": "display_data"
    }
   ],
   "source": [
    "a = mobile['REPORTED_SATISFACTION'].value_counts()\n",
    "\n",
    "plt.bar(a.index, a.values)\n",
    "plt.show()"
   ]
  },
  {
   "cell_type": "code",
   "execution_count": 162,
   "metadata": {},
   "outputs": [
    {
     "data": {
      "image/png": "[encoded data removed]",
      "text/plain": [
       "<Figure size 432x288 with 1 Axes>"
      ]
     },
     "metadata": {},
     "output_type": "display_data"
    }
   ],
   "source": [
    "plt.pie(a.values, labels=a.index, autopct='%.2f%%')\n",
    "plt.show()"
   ]
  },
  {
   "cell_type": "markdown",
   "metadata": {
    "id": "yRUYICkIIuc0"
   },
   "source": [
    "⑥ 기초통계량과 분포를 통해서 파악한 내용을 적어 봅시다.\n",
    "\n",
    "보이는 그대로를 넘어, 비즈니스 관점에서 고민하며 적어 봅시다."
   ]
  },
  {
   "cell_type": "markdown",
   "metadata": {
    "id": "ULM7c12fKYAK"
   },
   "source": [
    "> - 매우 불만이 가장 많은 것으로 보아 많은 이탈이 예상이 된다.  \n",
    "> - 매우 만족과 매우 불만이 양극화 되어 있다."
   ]
  },
  {
   "cell_type": "markdown",
   "metadata": {
    "id": "3ZVNnImDIyRE"
   },
   "source": [
    "⑦ 추가 분석해 볼 사항이 있나요?"
   ]
  },
  {
   "cell_type": "markdown",
   "metadata": {
    "id": "PeMdVTGPKYd6"
   },
   "source": []
  },
  {
   "cell_type": "markdown",
   "metadata": {
    "id": "cYkgwG47evaF"
   },
   "source": [
    "### 2) feature2 : CONSIDERING_CHANGE_OF_PLAN"
   ]
  },
  {
   "cell_type": "code",
   "execution_count": 163,
   "metadata": {
    "id": "bUzXvik-Ka88"
   },
   "outputs": [
    {
     "data": {
      "text/html": [
       "<div>\n",
       "<style scoped>\n",
       "    .dataframe tbody tr th:only-of-type {\n",
       "        vertical-align: middle;\n",
       "    }\n",
       "\n",
       "    .dataframe tbody tr th {\n",
       "        vertical-align: top;\n",
       "    }\n",
       "\n",
       "    .dataframe thead th {\n",
       "        text-align: right;\n",
       "    }\n",
       "</style>\n",
       "<table border=\"1\" class=\"dataframe\">\n",
       "  <thead>\n",
       "    <tr style=\"text-align: right;\">\n",
       "      <th></th>\n",
       "      <th>COLLEGE</th>\n",
       "      <th>INCOME</th>\n",
       "      <th>OVERAGE</th>\n",
       "      <th>LEFTOVER</th>\n",
       "      <th>HOUSE</th>\n",
       "      <th>HANDSET_PRICE</th>\n",
       "      <th>AVERAGE_CALL_DURATION</th>\n",
       "      <th>REPORTED_SATISFACTION</th>\n",
       "      <th>CONSIDERING_CHANGE_OF_PLAN</th>\n",
       "      <th>CHURN</th>\n",
       "    </tr>\n",
       "  </thead>\n",
       "  <tbody>\n",
       "    <tr>\n",
       "      <th>0</th>\n",
       "      <td>1</td>\n",
       "      <td>47711</td>\n",
       "      <td>183</td>\n",
       "      <td>17</td>\n",
       "      <td>730589.0</td>\n",
       "      <td>192</td>\n",
       "      <td>5</td>\n",
       "      <td>unsat</td>\n",
       "      <td>considering</td>\n",
       "      <td>0</td>\n",
       "    </tr>\n",
       "    <tr>\n",
       "      <th>1</th>\n",
       "      <td>0</td>\n",
       "      <td>74132</td>\n",
       "      <td>191</td>\n",
       "      <td>43</td>\n",
       "      <td>535092.0</td>\n",
       "      <td>349</td>\n",
       "      <td>2</td>\n",
       "      <td>unsat</td>\n",
       "      <td>no</td>\n",
       "      <td>1</td>\n",
       "    </tr>\n",
       "    <tr>\n",
       "      <th>2</th>\n",
       "      <td>1</td>\n",
       "      <td>150419</td>\n",
       "      <td>0</td>\n",
       "      <td>14</td>\n",
       "      <td>204004.0</td>\n",
       "      <td>682</td>\n",
       "      <td>6</td>\n",
       "      <td>unsat</td>\n",
       "      <td>considering</td>\n",
       "      <td>0</td>\n",
       "    </tr>\n",
       "  </tbody>\n",
       "</table>\n",
       "</div>"
      ],
      "text/plain": [
       "   COLLEGE  INCOME  OVERAGE  LEFTOVER     HOUSE  HANDSET_PRICE  \\\n",
       "0        1   47711      183        17  730589.0            192   \n",
       "1        0   74132      191        43  535092.0            349   \n",
       "2        1  150419        0        14  204004.0            682   \n",
       "\n",
       "   AVERAGE_CALL_DURATION REPORTED_SATISFACTION CONSIDERING_CHANGE_OF_PLAN  \\\n",
       "0                      5                 unsat                considering   \n",
       "1                      2                 unsat                         no   \n",
       "2                      6                 unsat                considering   \n",
       "\n",
       "   CHURN  \n",
       "0      0  \n",
       "1      1  \n",
       "2      0  "
      ]
     },
     "execution_count": 163,
     "metadata": {},
     "output_type": "execute_result"
    }
   ],
   "source": [
    "mobile.head(3)"
   ]
  },
  {
   "cell_type": "markdown",
   "metadata": {
    "id": "2omFdiaGKa88"
   },
   "source": [
    "① 변수의 비즈니스 의미"
   ]
  },
  {
   "cell_type": "markdown",
   "metadata": {
    "id": "kZYSSosDKa89"
   },
   "source": [
    "> 변경 계획 설문"
   ]
  },
  {
   "cell_type": "markdown",
   "metadata": {
    "id": "AzFQRtUfKa89"
   },
   "source": [
    "② 숫자, 범주?"
   ]
  },
  {
   "cell_type": "markdown",
   "metadata": {
    "id": "YxCQJmRJKa8-"
   },
   "source": [
    "> 범주형"
   ]
  },
  {
   "cell_type": "markdown",
   "metadata": {
    "id": "SBN704MyKa8-"
   },
   "source": [
    "③ NaN 존재 유무"
   ]
  },
  {
   "cell_type": "code",
   "execution_count": 164,
   "metadata": {
    "id": "HsaWRugtKa8-"
   },
   "outputs": [
    {
     "data": {
      "text/plain": [
       "0"
      ]
     },
     "execution_count": 164,
     "metadata": {},
     "output_type": "execute_result"
    }
   ],
   "source": [
    "mobile['CONSIDERING_CHANGE_OF_PLAN'].isnull().sum()"
   ]
  },
  {
   "cell_type": "markdown",
   "metadata": {
    "id": "Tykq0uMtKa8-"
   },
   "source": [
    "④ 기초통계량(수치화)"
   ]
  },
  {
   "cell_type": "code",
   "execution_count": 165,
   "metadata": {
    "id": "UZmBTLCIKa8_"
   },
   "outputs": [
    {
     "data": {
      "text/plain": [
       "considering                 7141\n",
       "actively_looking_into_it    4453\n",
       "no                          3644\n",
       "never_thought               1804\n",
       "perhaps                      958\n",
       "Name: CONSIDERING_CHANGE_OF_PLAN, dtype: int64"
      ]
     },
     "execution_count": 165,
     "metadata": {},
     "output_type": "execute_result"
    }
   ],
   "source": [
    "b = mobile['CONSIDERING_CHANGE_OF_PLAN'].value_counts()\n",
    "b"
   ]
  },
  {
   "cell_type": "markdown",
   "metadata": {
    "id": "hJV7-gwfKa8_"
   },
   "source": [
    "⑤ 분포 확인(시각화)"
   ]
  },
  {
   "cell_type": "code",
   "execution_count": 166,
   "metadata": {
    "id": "ZPMzrx0vKa8_"
   },
   "outputs": [
    {
     "data": {
      "image/png": "[encoded data removed]",
      "text/plain": [
       "<Figure size 432x288 with 1 Axes>"
      ]
     },
     "metadata": {
      "needs_background": "light"
     },
     "output_type": "display_data"
    }
   ],
   "source": [
    "plt.bar(b.index,b.values)\n",
    "plt.xticks(rotation=30)\n",
    "plt.show()"
   ]
  },
  {
   "cell_type": "code",
   "execution_count": 167,
   "metadata": {},
   "outputs": [
    {
     "data": {
      "image/png": "[encoded data removed]",
      "text/plain": [
       "<Figure size 432x288 with 1 Axes>"
      ]
     },
     "metadata": {},
     "output_type": "display_data"
    }
   ],
   "source": [
    "plt.pie(b.values, labels=b.index, autopct='%.2f%%')\n",
    "plt.show()"
   ]
  },
  {
   "cell_type": "markdown",
   "metadata": {
    "id": "lonR2XzeKa8_"
   },
   "source": [
    "⑥ 기초통계량과 분포를 통해서 파악한 내용을 적어 봅시다.\n",
    "\n",
    "보이는 그대로를 넘어, 비즈니스 관점에서 고민하며 적어 봅시다."
   ]
  },
  {
   "cell_type": "markdown",
   "metadata": {
    "id": "1lcP2CtQKa8_"
   },
   "source": [
    "> - 이탈을 고려하는 사람이 매우 많다.  \n",
    "> - 요금제의 정책 문제가 있을 수 있다."
   ]
  },
  {
   "cell_type": "markdown",
   "metadata": {
    "id": "CNtHylBDKa9A"
   },
   "source": [
    "⑦ 추가 분석해 볼 사항이 있나요?"
   ]
  },
  {
   "cell_type": "markdown",
   "metadata": {
    "id": "mQAjOApKKa9A"
   },
   "source": []
  },
  {
   "cell_type": "markdown",
   "metadata": {
    "id": "UNgJNBEIfB1p"
   },
   "source": [
    "### 3) feature3 : OVERAGE"
   ]
  },
  {
   "cell_type": "code",
   "execution_count": 168,
   "metadata": {
    "id": "7FsVbJ_mKi15"
   },
   "outputs": [
    {
     "data": {
      "text/html": [
       "<div>\n",
       "<style scoped>\n",
       "    .dataframe tbody tr th:only-of-type {\n",
       "        vertical-align: middle;\n",
       "    }\n",
       "\n",
       "    .dataframe tbody tr th {\n",
       "        vertical-align: top;\n",
       "    }\n",
       "\n",
       "    .dataframe thead th {\n",
       "        text-align: right;\n",
       "    }\n",
       "</style>\n",
       "<table border=\"1\" class=\"dataframe\">\n",
       "  <thead>\n",
       "    <tr style=\"text-align: right;\">\n",
       "      <th></th>\n",
       "      <th>COLLEGE</th>\n",
       "      <th>INCOME</th>\n",
       "      <th>OVERAGE</th>\n",
       "      <th>LEFTOVER</th>\n",
       "      <th>HOUSE</th>\n",
       "      <th>HANDSET_PRICE</th>\n",
       "      <th>AVERAGE_CALL_DURATION</th>\n",
       "      <th>REPORTED_SATISFACTION</th>\n",
       "      <th>CONSIDERING_CHANGE_OF_PLAN</th>\n",
       "      <th>CHURN</th>\n",
       "    </tr>\n",
       "  </thead>\n",
       "  <tbody>\n",
       "    <tr>\n",
       "      <th>0</th>\n",
       "      <td>1</td>\n",
       "      <td>47711</td>\n",
       "      <td>183</td>\n",
       "      <td>17</td>\n",
       "      <td>730589.0</td>\n",
       "      <td>192</td>\n",
       "      <td>5</td>\n",
       "      <td>unsat</td>\n",
       "      <td>considering</td>\n",
       "      <td>0</td>\n",
       "    </tr>\n",
       "    <tr>\n",
       "      <th>1</th>\n",
       "      <td>0</td>\n",
       "      <td>74132</td>\n",
       "      <td>191</td>\n",
       "      <td>43</td>\n",
       "      <td>535092.0</td>\n",
       "      <td>349</td>\n",
       "      <td>2</td>\n",
       "      <td>unsat</td>\n",
       "      <td>no</td>\n",
       "      <td>1</td>\n",
       "    </tr>\n",
       "    <tr>\n",
       "      <th>2</th>\n",
       "      <td>1</td>\n",
       "      <td>150419</td>\n",
       "      <td>0</td>\n",
       "      <td>14</td>\n",
       "      <td>204004.0</td>\n",
       "      <td>682</td>\n",
       "      <td>6</td>\n",
       "      <td>unsat</td>\n",
       "      <td>considering</td>\n",
       "      <td>0</td>\n",
       "    </tr>\n",
       "  </tbody>\n",
       "</table>\n",
       "</div>"
      ],
      "text/plain": [
       "   COLLEGE  INCOME  OVERAGE  LEFTOVER     HOUSE  HANDSET_PRICE  \\\n",
       "0        1   47711      183        17  730589.0            192   \n",
       "1        0   74132      191        43  535092.0            349   \n",
       "2        1  150419        0        14  204004.0            682   \n",
       "\n",
       "   AVERAGE_CALL_DURATION REPORTED_SATISFACTION CONSIDERING_CHANGE_OF_PLAN  \\\n",
       "0                      5                 unsat                considering   \n",
       "1                      2                 unsat                         no   \n",
       "2                      6                 unsat                considering   \n",
       "\n",
       "   CHURN  \n",
       "0      0  \n",
       "1      1  \n",
       "2      0  "
      ]
     },
     "execution_count": 168,
     "metadata": {},
     "output_type": "execute_result"
    }
   ],
   "source": [
    "mobile.head(3)"
   ]
  },
  {
   "cell_type": "markdown",
   "metadata": {
    "id": "-ke0GYsmKi19"
   },
   "source": [
    "① 변수의 비즈니스 의미"
   ]
  },
  {
   "cell_type": "markdown",
   "metadata": {
    "id": "wnGTV3ioKi19"
   },
   "source": [
    "> 월 초과사용 시간(분)"
   ]
  },
  {
   "cell_type": "markdown",
   "metadata": {
    "id": "BzqkxzyaKi1-"
   },
   "source": [
    "② 숫자, 범주?"
   ]
  },
  {
   "cell_type": "markdown",
   "metadata": {
    "id": "8z4XiV0AKi1-"
   },
   "source": [
    "> 숫자형"
   ]
  },
  {
   "cell_type": "markdown",
   "metadata": {
    "id": "NB_N6LzOKi1-"
   },
   "source": [
    "③ NaN 존재 유무"
   ]
  },
  {
   "cell_type": "code",
   "execution_count": 169,
   "metadata": {
    "id": "3BpzuXSLKi1-"
   },
   "outputs": [
    {
     "data": {
      "text/plain": [
       "0"
      ]
     },
     "execution_count": 169,
     "metadata": {},
     "output_type": "execute_result"
    }
   ],
   "source": [
    "mobile['OVERAGE'].isnull().sum()"
   ]
  },
  {
   "cell_type": "markdown",
   "metadata": {
    "id": "TSCvrb3qKi1-"
   },
   "source": [
    "④ 기초통계량(수치화)"
   ]
  },
  {
   "cell_type": "code",
   "execution_count": 171,
   "metadata": {
    "id": "rWlpAjW4Ki1_"
   },
   "outputs": [
    {
     "data": {
      "text/plain": [
       "count    18000.000000\n",
       "mean        86.014833\n",
       "std         85.963981\n",
       "min         -2.000000\n",
       "25%          0.000000\n",
       "50%         59.000000\n",
       "75%        179.000000\n",
       "max        335.000000\n",
       "Name: OVERAGE, dtype: float64"
      ]
     },
     "execution_count": 171,
     "metadata": {},
     "output_type": "execute_result"
    }
   ],
   "source": [
    "mobile['OVERAGE'].describe()"
   ]
  },
  {
   "cell_type": "markdown",
   "metadata": {
    "id": "aR7lnmz2Ki1_"
   },
   "source": [
    "⑤ 분포 확인(시각화)"
   ]
  },
  {
   "cell_type": "code",
   "execution_count": 172,
   "metadata": {
    "id": "rWlpAjW4Ki1_"
   },
   "outputs": [
    {
     "data": {
      "image/png": "[encoded data removed]",
      "text/plain": [
       "<Figure size 432x288 with 1 Axes>"
      ]
     },
     "metadata": {
      "needs_background": "light"
     },
     "output_type": "display_data"
    }
   ],
   "source": [
    "plt.hist(data=mobile, x='OVERAGE', bins=50, edgecolor='k')\n",
    "plt.show()"
   ]
  },
  {
   "cell_type": "code",
   "execution_count": 173,
   "metadata": {},
   "outputs": [
    {
     "data": {
      "image/png": "[encoded data removed]",
      "text/plain": [
       "<Figure size 432x288 with 1 Axes>"
      ]
     },
     "metadata": {
      "needs_background": "light"
     },
     "output_type": "display_data"
    }
   ],
   "source": [
    "mobile['OVERAGE'].plot(kind='kde')\n",
    "plt.show()"
   ]
  },
  {
   "cell_type": "code",
   "execution_count": 174,
   "metadata": {},
   "outputs": [
    {
     "data": {
      "image/png": "[encoded data removed]",
      "text/plain": [
       "<Figure size 432x288 with 1 Axes>"
      ]
     },
     "metadata": {
      "needs_background": "light"
     },
     "output_type": "display_data"
    }
   ],
   "source": [
    "plt.boxplot(data=mobile, x='OVERAGE')\n",
    "plt.show()"
   ]
  },
  {
   "cell_type": "code",
   "execution_count": 175,
   "metadata": {},
   "outputs": [
    {
     "data": {
      "image/png": "[encoded data removed]",
      "text/plain": [
       "<Figure size 432x288 with 1 Axes>"
      ]
     },
     "metadata": {
      "needs_background": "light"
     },
     "output_type": "display_data"
    }
   ],
   "source": [
    "plt.violinplot(mobile['OVERAGE'])\n",
    "plt.show()"
   ]
  },
  {
   "cell_type": "markdown",
   "metadata": {
    "id": "zUryC_G3Ki2A"
   },
   "source": [
    "⑥ 기초통계량과 분포를 통해서 파악한 내용을 적어 봅시다.\n",
    "\n",
    "보이는 그대로를 넘어, 비즈니스 관점에서 고민하며 적어 봅시다."
   ]
  },
  {
   "cell_type": "markdown",
   "metadata": {
    "id": "wkwuaXfwKi2A"
   },
   "source": [
    "> - 음수가 존재하고, 0의 수가 대략 25% 차지하는 것으로 많이 존재한다.  \n",
    "> - 2가지 집단이 존재한다."
   ]
  },
  {
   "cell_type": "markdown",
   "metadata": {
    "id": "YgjNtlWuKi2A"
   },
   "source": [
    "⑦ 추가 분석해 볼 사항이 있나요?"
   ]
  },
  {
   "cell_type": "markdown",
   "metadata": {
    "id": "jSPR07BeKi2B"
   },
   "source": [
    "> 2집단을 나눠 분석해볼만 하다."
   ]
  },
  {
   "cell_type": "markdown",
   "metadata": {
    "id": "e3QPEq8efB1r"
   },
   "source": [
    "### 4) feature4 : AVERAGE_CALL_DURATION\t"
   ]
  },
  {
   "cell_type": "code",
   "execution_count": 176,
   "metadata": {
    "id": "H4Oa5BnzKme9"
   },
   "outputs": [
    {
     "data": {
      "text/html": [
       "<div>\n",
       "<style scoped>\n",
       "    .dataframe tbody tr th:only-of-type {\n",
       "        vertical-align: middle;\n",
       "    }\n",
       "\n",
       "    .dataframe tbody tr th {\n",
       "        vertical-align: top;\n",
       "    }\n",
       "\n",
       "    .dataframe thead th {\n",
       "        text-align: right;\n",
       "    }\n",
       "</style>\n",
       "<table border=\"1\" class=\"dataframe\">\n",
       "  <thead>\n",
       "    <tr style=\"text-align: right;\">\n",
       "      <th></th>\n",
       "      <th>COLLEGE</th>\n",
       "      <th>INCOME</th>\n",
       "      <th>OVERAGE</th>\n",
       "      <th>LEFTOVER</th>\n",
       "      <th>HOUSE</th>\n",
       "      <th>HANDSET_PRICE</th>\n",
       "      <th>AVERAGE_CALL_DURATION</th>\n",
       "      <th>REPORTED_SATISFACTION</th>\n",
       "      <th>CONSIDERING_CHANGE_OF_PLAN</th>\n",
       "      <th>CHURN</th>\n",
       "    </tr>\n",
       "  </thead>\n",
       "  <tbody>\n",
       "    <tr>\n",
       "      <th>0</th>\n",
       "      <td>1</td>\n",
       "      <td>47711</td>\n",
       "      <td>183</td>\n",
       "      <td>17</td>\n",
       "      <td>730589.0</td>\n",
       "      <td>192</td>\n",
       "      <td>5</td>\n",
       "      <td>unsat</td>\n",
       "      <td>considering</td>\n",
       "      <td>0</td>\n",
       "    </tr>\n",
       "    <tr>\n",
       "      <th>1</th>\n",
       "      <td>0</td>\n",
       "      <td>74132</td>\n",
       "      <td>191</td>\n",
       "      <td>43</td>\n",
       "      <td>535092.0</td>\n",
       "      <td>349</td>\n",
       "      <td>2</td>\n",
       "      <td>unsat</td>\n",
       "      <td>no</td>\n",
       "      <td>1</td>\n",
       "    </tr>\n",
       "    <tr>\n",
       "      <th>2</th>\n",
       "      <td>1</td>\n",
       "      <td>150419</td>\n",
       "      <td>0</td>\n",
       "      <td>14</td>\n",
       "      <td>204004.0</td>\n",
       "      <td>682</td>\n",
       "      <td>6</td>\n",
       "      <td>unsat</td>\n",
       "      <td>considering</td>\n",
       "      <td>0</td>\n",
       "    </tr>\n",
       "  </tbody>\n",
       "</table>\n",
       "</div>"
      ],
      "text/plain": [
       "   COLLEGE  INCOME  OVERAGE  LEFTOVER     HOUSE  HANDSET_PRICE  \\\n",
       "0        1   47711      183        17  730589.0            192   \n",
       "1        0   74132      191        43  535092.0            349   \n",
       "2        1  150419        0        14  204004.0            682   \n",
       "\n",
       "   AVERAGE_CALL_DURATION REPORTED_SATISFACTION CONSIDERING_CHANGE_OF_PLAN  \\\n",
       "0                      5                 unsat                considering   \n",
       "1                      2                 unsat                         no   \n",
       "2                      6                 unsat                considering   \n",
       "\n",
       "   CHURN  \n",
       "0      0  \n",
       "1      1  \n",
       "2      0  "
      ]
     },
     "execution_count": 176,
     "metadata": {},
     "output_type": "execute_result"
    }
   ],
   "source": [
    "mobile.head(3)"
   ]
  },
  {
   "cell_type": "markdown",
   "metadata": {
    "id": "cYoXD-kgKme9"
   },
   "source": [
    "① 변수의 비즈니스 의미"
   ]
  },
  {
   "cell_type": "markdown",
   "metadata": {
    "id": "LFyUzNHDKme9"
   },
   "source": [
    "> 평균 통화시간(분)"
   ]
  },
  {
   "cell_type": "markdown",
   "metadata": {
    "id": "4NREp0sjKme-"
   },
   "source": [
    "② 숫자, 범주?"
   ]
  },
  {
   "cell_type": "markdown",
   "metadata": {
    "id": "hn29bATCKme-"
   },
   "source": [
    "> 숫자형"
   ]
  },
  {
   "cell_type": "markdown",
   "metadata": {
    "id": "pmhn3c76Kme-"
   },
   "source": [
    "③ NaN 존재 유무"
   ]
  },
  {
   "cell_type": "code",
   "execution_count": 177,
   "metadata": {
    "id": "hRCxtyB4Kme-"
   },
   "outputs": [
    {
     "data": {
      "text/plain": [
       "0"
      ]
     },
     "execution_count": 177,
     "metadata": {},
     "output_type": "execute_result"
    }
   ],
   "source": [
    "mobile['AVERAGE_CALL_DURATION'].isnull().sum()"
   ]
  },
  {
   "cell_type": "markdown",
   "metadata": {
    "id": "JDydNtbzKme-"
   },
   "source": [
    "④ 기초통계량(수치화)"
   ]
  },
  {
   "cell_type": "code",
   "execution_count": 178,
   "metadata": {
    "id": "w7d60XLOKme-"
   },
   "outputs": [
    {
     "data": {
      "text/plain": [
       "count    18000.000000\n",
       "mean         5.990944\n",
       "std          4.398894\n",
       "min          1.000000\n",
       "25%          2.000000\n",
       "50%          5.000000\n",
       "75%         10.000000\n",
       "max         15.000000\n",
       "Name: AVERAGE_CALL_DURATION, dtype: float64"
      ]
     },
     "execution_count": 178,
     "metadata": {},
     "output_type": "execute_result"
    }
   ],
   "source": [
    "mobile['AVERAGE_CALL_DURATION'].describe()"
   ]
  },
  {
   "cell_type": "markdown",
   "metadata": {
    "id": "08OXnGH_Kme-"
   },
   "source": [
    "⑤ 분포 확인(시각화)"
   ]
  },
  {
   "cell_type": "code",
   "execution_count": 309,
   "metadata": {
    "id": "yMzY2CyxKme_"
   },
   "outputs": [
    {
     "data": {
      "image/png": "[encoded data removed]",
      "text/plain": [
       "<Figure size 432x288 with 1 Axes>"
      ]
     },
     "metadata": {
      "needs_background": "light"
     },
     "output_type": "display_data"
    }
   ],
   "source": [
    "plt.hist(data=mobile, x='AVERAGE_CALL_DURATION', bins=15, edgecolor='k')\n",
    "\n",
    "plt.axvline(mobile['AVERAGE_CALL_DURATION'].min(), color='y')\n",
    "plt.axvline(mobile['AVERAGE_CALL_DURATION'].mean(), color='r')\n",
    "plt.axvline(mobile['AVERAGE_CALL_DURATION'].max(), color='y')\n",
    "\n",
    "plt.show()"
   ]
  },
  {
   "cell_type": "code",
   "execution_count": 180,
   "metadata": {},
   "outputs": [
    {
     "data": {
      "image/png": "[encoded data removed]",
      "text/plain": [
       "<Figure size 432x288 with 1 Axes>"
      ]
     },
     "metadata": {
      "needs_background": "light"
     },
     "output_type": "display_data"
    }
   ],
   "source": [
    "mobile['AVERAGE_CALL_DURATION'].plot(kind='kde')\n",
    "plt.show()"
   ]
  },
  {
   "cell_type": "code",
   "execution_count": 181,
   "metadata": {},
   "outputs": [
    {
     "data": {
      "image/png": "[encoded data removed]",
      "text/plain": [
       "<Figure size 432x288 with 1 Axes>"
      ]
     },
     "metadata": {
      "needs_background": "light"
     },
     "output_type": "display_data"
    }
   ],
   "source": [
    "plt.boxplot(data=mobile,x='AVERAGE_CALL_DURATION')\n",
    "plt.show()"
   ]
  },
  {
   "cell_type": "code",
   "execution_count": 182,
   "metadata": {},
   "outputs": [
    {
     "data": {
      "image/png": "[encoded data removed]",
      "text/plain": [
       "<Figure size 432x288 with 1 Axes>"
      ]
     },
     "metadata": {
      "needs_background": "light"
     },
     "output_type": "display_data"
    }
   ],
   "source": [
    "plt.violinplot(mobile['AVERAGE_CALL_DURATION'])\n",
    "plt.show()"
   ]
  },
  {
   "cell_type": "markdown",
   "metadata": {
    "id": "qDqmqhvGKme_"
   },
   "source": [
    "⑥ 기초통계량과 분포를 통해서 파악한 내용을 적어 봅시다.\n",
    "\n",
    "보이는 그대로를 넘어, 비즈니스 관점에서 고민하며 적어 봅시다."
   ]
  },
  {
   "cell_type": "markdown",
   "metadata": {
    "id": "YgxBaew3Kme_"
   },
   "source": [
    "> - 세가지 집단이 존재한다.  "
   ]
  },
  {
   "cell_type": "markdown",
   "metadata": {
    "id": "EpZ0-McmKme_"
   },
   "source": [
    "⑦ 추가 분석해 볼 사항이 있나요?"
   ]
  },
  {
   "cell_type": "markdown",
   "metadata": {
    "id": "8KHpT6zDKme_"
   },
   "source": [
    "> 통화 평균별 3집단으로 나누어 분석해볼만 하다."
   ]
  },
  {
   "cell_type": "markdown",
   "metadata": {
    "id": "E5rB6CiofI_d"
   },
   "source": [
    "### 5) feature5 : LEFTOVER"
   ]
  },
  {
   "cell_type": "code",
   "execution_count": 183,
   "metadata": {
    "id": "BoOX0VRsKped"
   },
   "outputs": [
    {
     "data": {
      "text/html": [
       "<div>\n",
       "<style scoped>\n",
       "    .dataframe tbody tr th:only-of-type {\n",
       "        vertical-align: middle;\n",
       "    }\n",
       "\n",
       "    .dataframe tbody tr th {\n",
       "        vertical-align: top;\n",
       "    }\n",
       "\n",
       "    .dataframe thead th {\n",
       "        text-align: right;\n",
       "    }\n",
       "</style>\n",
       "<table border=\"1\" class=\"dataframe\">\n",
       "  <thead>\n",
       "    <tr style=\"text-align: right;\">\n",
       "      <th></th>\n",
       "      <th>COLLEGE</th>\n",
       "      <th>INCOME</th>\n",
       "      <th>OVERAGE</th>\n",
       "      <th>LEFTOVER</th>\n",
       "      <th>HOUSE</th>\n",
       "      <th>HANDSET_PRICE</th>\n",
       "      <th>AVERAGE_CALL_DURATION</th>\n",
       "      <th>REPORTED_SATISFACTION</th>\n",
       "      <th>CONSIDERING_CHANGE_OF_PLAN</th>\n",
       "      <th>CHURN</th>\n",
       "    </tr>\n",
       "  </thead>\n",
       "  <tbody>\n",
       "    <tr>\n",
       "      <th>0</th>\n",
       "      <td>1</td>\n",
       "      <td>47711</td>\n",
       "      <td>183</td>\n",
       "      <td>17</td>\n",
       "      <td>730589.0</td>\n",
       "      <td>192</td>\n",
       "      <td>5</td>\n",
       "      <td>unsat</td>\n",
       "      <td>considering</td>\n",
       "      <td>0</td>\n",
       "    </tr>\n",
       "    <tr>\n",
       "      <th>1</th>\n",
       "      <td>0</td>\n",
       "      <td>74132</td>\n",
       "      <td>191</td>\n",
       "      <td>43</td>\n",
       "      <td>535092.0</td>\n",
       "      <td>349</td>\n",
       "      <td>2</td>\n",
       "      <td>unsat</td>\n",
       "      <td>no</td>\n",
       "      <td>1</td>\n",
       "    </tr>\n",
       "    <tr>\n",
       "      <th>2</th>\n",
       "      <td>1</td>\n",
       "      <td>150419</td>\n",
       "      <td>0</td>\n",
       "      <td>14</td>\n",
       "      <td>204004.0</td>\n",
       "      <td>682</td>\n",
       "      <td>6</td>\n",
       "      <td>unsat</td>\n",
       "      <td>considering</td>\n",
       "      <td>0</td>\n",
       "    </tr>\n",
       "  </tbody>\n",
       "</table>\n",
       "</div>"
      ],
      "text/plain": [
       "   COLLEGE  INCOME  OVERAGE  LEFTOVER     HOUSE  HANDSET_PRICE  \\\n",
       "0        1   47711      183        17  730589.0            192   \n",
       "1        0   74132      191        43  535092.0            349   \n",
       "2        1  150419        0        14  204004.0            682   \n",
       "\n",
       "   AVERAGE_CALL_DURATION REPORTED_SATISFACTION CONSIDERING_CHANGE_OF_PLAN  \\\n",
       "0                      5                 unsat                considering   \n",
       "1                      2                 unsat                         no   \n",
       "2                      6                 unsat                considering   \n",
       "\n",
       "   CHURN  \n",
       "0      0  \n",
       "1      1  \n",
       "2      0  "
      ]
     },
     "execution_count": 183,
     "metadata": {},
     "output_type": "execute_result"
    }
   ],
   "source": [
    "mobile.head(3)"
   ]
  },
  {
   "cell_type": "markdown",
   "metadata": {
    "id": "lFocUq67Kped"
   },
   "source": [
    "① 변수의 비즈니스 의미"
   ]
  },
  {
   "cell_type": "markdown",
   "metadata": {
    "id": "eDp4a6m6Kped"
   },
   "source": [
    "> 월 사용 잔여시간(분)"
   ]
  },
  {
   "cell_type": "markdown",
   "metadata": {
    "id": "tMiSqllJKped"
   },
   "source": [
    "② 숫자, 범주?"
   ]
  },
  {
   "cell_type": "markdown",
   "metadata": {
    "id": "xzz6u-xWKped"
   },
   "source": [
    "> 숫자형"
   ]
  },
  {
   "cell_type": "markdown",
   "metadata": {
    "id": "TDvHjCp8Kped"
   },
   "source": [
    "③ NaN 존재 유무"
   ]
  },
  {
   "cell_type": "code",
   "execution_count": 184,
   "metadata": {
    "id": "GMZN3xXPKpee"
   },
   "outputs": [
    {
     "data": {
      "text/plain": [
       "0"
      ]
     },
     "execution_count": 184,
     "metadata": {},
     "output_type": "execute_result"
    }
   ],
   "source": [
    "mobile['LEFTOVER'].isnull().sum()"
   ]
  },
  {
   "cell_type": "markdown",
   "metadata": {
    "id": "xG8QXHmcKpee"
   },
   "source": [
    "④ 기초통계량(수치화)"
   ]
  },
  {
   "cell_type": "code",
   "execution_count": 185,
   "metadata": {
    "id": "LP3ywpI8Kpee"
   },
   "outputs": [
    {
     "data": {
      "text/plain": [
       "count    18000.000000\n",
       "mean        23.995500\n",
       "std         26.860363\n",
       "min          0.000000\n",
       "25%          0.000000\n",
       "50%         14.500000\n",
       "75%         42.000000\n",
       "max         89.000000\n",
       "Name: LEFTOVER, dtype: float64"
      ]
     },
     "execution_count": 185,
     "metadata": {},
     "output_type": "execute_result"
    }
   ],
   "source": [
    "mobile['LEFTOVER'].describe()"
   ]
  },
  {
   "cell_type": "markdown",
   "metadata": {
    "id": "2NBiXBJzKpee"
   },
   "source": [
    "⑤ 분포 확인(시각화)"
   ]
  },
  {
   "cell_type": "code",
   "execution_count": 186,
   "metadata": {
    "id": "jlaMl92iKpee"
   },
   "outputs": [
    {
     "data": {
      "image/png": "[encoded data removed]",
      "text/plain": [
       "<Figure size 432x288 with 1 Axes>"
      ]
     },
     "metadata": {
      "needs_background": "light"
     },
     "output_type": "display_data"
    }
   ],
   "source": [
    "plt.hist(data=mobile, x='LEFTOVER', bins=40, edgecolor='k')\n",
    "plt.show()"
   ]
  },
  {
   "cell_type": "markdown",
   "metadata": {
    "id": "fUE37qfWKpee"
   },
   "source": [
    "⑥ 기초통계량과 분포를 통해서 파악한 내용을 적어 봅시다.\n",
    "\n",
    "보이는 그대로를 넘어, 비즈니스 관점에서 고민하며 적어 봅시다."
   ]
  },
  {
   "cell_type": "markdown",
   "metadata": {
    "id": "3pXS8Y2BKpee"
   },
   "source": [
    "> - 0이 대략 25% 차지할 만큼 많이 분포한다.  \n",
    "> - 약 25분 이상부터 규칙적으로 분포한다.  \n",
    "> - 0제외, 10~20분에 많이 분포한다."
   ]
  },
  {
   "cell_type": "markdown",
   "metadata": {
    "id": "cci16W-GKpee"
   },
   "source": [
    "⑦ 추가 분석해 볼 사항이 있나요?"
   ]
  },
  {
   "cell_type": "markdown",
   "metadata": {
    "id": "atWD22NIKpee"
   },
   "source": [
    "> 0 제외하고 분포해볼만 하다."
   ]
  },
  {
   "cell_type": "code",
   "execution_count": null,
   "metadata": {},
   "outputs": [],
   "source": []
  },
  {
   "cell_type": "code",
   "execution_count": 187,
   "metadata": {},
   "outputs": [
    {
     "name": "stdout",
     "output_type": "stream",
     "text": [
      "<class 'pandas.core.frame.DataFrame'>\n",
      "RangeIndex: 18000 entries, 0 to 17999\n",
      "Data columns (total 10 columns):\n",
      " #   Column                      Non-Null Count  Dtype  \n",
      "---  ------                      --------------  -----  \n",
      " 0   COLLEGE                     18000 non-null  int64  \n",
      " 1   INCOME                      18000 non-null  int64  \n",
      " 2   OVERAGE                     18000 non-null  int64  \n",
      " 3   LEFTOVER                    18000 non-null  int64  \n",
      " 4   HOUSE                       17785 non-null  float64\n",
      " 5   HANDSET_PRICE               18000 non-null  int64  \n",
      " 6   AVERAGE_CALL_DURATION       18000 non-null  int64  \n",
      " 7   REPORTED_SATISFACTION       17962 non-null  object \n",
      " 8   CONSIDERING_CHANGE_OF_PLAN  18000 non-null  object \n",
      " 9   CHURN                       18000 non-null  int64  \n",
      "dtypes: float64(1), int64(7), object(2)\n",
      "memory usage: 1.4+ MB\n"
     ]
    }
   ],
   "source": [
    "mobile.info()"
   ]
  },
  {
   "cell_type": "code",
   "execution_count": 188,
   "metadata": {},
   "outputs": [],
   "source": [
    "# 결측치 제외\n",
    "mobile1 = mobile.dropna(axis=0)"
   ]
  },
  {
   "cell_type": "code",
   "execution_count": 189,
   "metadata": {},
   "outputs": [
    {
     "name": "stdout",
     "output_type": "stream",
     "text": [
      "<class 'pandas.core.frame.DataFrame'>\n",
      "RangeIndex: 18000 entries, 0 to 17999\n",
      "Data columns (total 10 columns):\n",
      " #   Column                      Non-Null Count  Dtype  \n",
      "---  ------                      --------------  -----  \n",
      " 0   COLLEGE                     18000 non-null  int64  \n",
      " 1   INCOME                      18000 non-null  int64  \n",
      " 2   OVERAGE                     18000 non-null  int64  \n",
      " 3   LEFTOVER                    18000 non-null  int64  \n",
      " 4   HOUSE                       17785 non-null  float64\n",
      " 5   HANDSET_PRICE               18000 non-null  int64  \n",
      " 6   AVERAGE_CALL_DURATION       18000 non-null  int64  \n",
      " 7   REPORTED_SATISFACTION       17962 non-null  object \n",
      " 8   CONSIDERING_CHANGE_OF_PLAN  18000 non-null  object \n",
      " 9   CHURN                       18000 non-null  int64  \n",
      "dtypes: float64(1), int64(7), object(2)\n",
      "memory usage: 1.4+ MB\n"
     ]
    }
   ],
   "source": [
    "mobile.info()\n",
    "\n",
    "# 약 250개 데이터 드롭"
   ]
  },
  {
   "cell_type": "code",
   "execution_count": 190,
   "metadata": {},
   "outputs": [
    {
     "name": "stdout",
     "output_type": "stream",
     "text": [
      "<class 'pandas.core.frame.DataFrame'>\n",
      "Int64Index: 17747 entries, 0 to 17784\n",
      "Data columns (total 10 columns):\n",
      " #   Column                      Non-Null Count  Dtype  \n",
      "---  ------                      --------------  -----  \n",
      " 0   COLLEGE                     17747 non-null  int64  \n",
      " 1   INCOME                      17747 non-null  int64  \n",
      " 2   OVERAGE                     17747 non-null  int64  \n",
      " 3   LEFTOVER                    17747 non-null  int64  \n",
      " 4   HOUSE                       17747 non-null  float64\n",
      " 5   HANDSET_PRICE               17747 non-null  int64  \n",
      " 6   AVERAGE_CALL_DURATION       17747 non-null  int64  \n",
      " 7   REPORTED_SATISFACTION       17747 non-null  object \n",
      " 8   CONSIDERING_CHANGE_OF_PLAN  17747 non-null  object \n",
      " 9   CHURN                       17747 non-null  int64  \n",
      "dtypes: float64(1), int64(7), object(2)\n",
      "memory usage: 1.5+ MB\n"
     ]
    }
   ],
   "source": [
    "mobile1.info()"
   ]
  },
  {
   "cell_type": "markdown",
   "metadata": {
    "id": "78iry0XpLCc0"
   },
   "source": [
    "### 6) target"
   ]
  },
  {
   "cell_type": "code",
   "execution_count": null,
   "metadata": {
    "id": "CokPil3nLCc7"
   },
   "outputs": [],
   "source": []
  },
  {
   "cell_type": "markdown",
   "metadata": {
    "id": "AXZCZBLBLCc8"
   },
   "source": [
    "① 변수의 비즈니스 의미"
   ]
  },
  {
   "cell_type": "code",
   "execution_count": null,
   "metadata": {
    "id": "LE6ylreXLCc8"
   },
   "outputs": [],
   "source": []
  },
  {
   "cell_type": "markdown",
   "metadata": {
    "id": "OyftkfSnLCc8"
   },
   "source": [
    "② 숫자, 범주?"
   ]
  },
  {
   "cell_type": "code",
   "execution_count": null,
   "metadata": {
    "id": "ubukJmxzLCc8"
   },
   "outputs": [],
   "source": []
  },
  {
   "cell_type": "markdown",
   "metadata": {
    "id": "4_aoVtEZLCc9"
   },
   "source": [
    "③ NaN 존재 유무"
   ]
  },
  {
   "cell_type": "code",
   "execution_count": null,
   "metadata": {
    "id": "yJTRrDtDLCc9"
   },
   "outputs": [],
   "source": []
  },
  {
   "cell_type": "markdown",
   "metadata": {
    "id": "J4FlMwvdLCc9"
   },
   "source": [
    "④ 기초통계량(수치화)"
   ]
  },
  {
   "cell_type": "code",
   "execution_count": null,
   "metadata": {
    "id": "zwZ_xGh0LCc-"
   },
   "outputs": [],
   "source": []
  },
  {
   "cell_type": "markdown",
   "metadata": {
    "id": "Mi7hgkwhLCc-"
   },
   "source": [
    "⑤ 분포 확인(시각화)"
   ]
  },
  {
   "cell_type": "code",
   "execution_count": null,
   "metadata": {
    "id": "SlDmIojyLCc-"
   },
   "outputs": [],
   "source": []
  },
  {
   "cell_type": "markdown",
   "metadata": {
    "id": "IJDj2DQ0LCc_"
   },
   "source": [
    "⑥ 기초통계량과 분포를 통해서 파악한 내용을 적어 봅시다.\n",
    "\n",
    "보이는 그대로를 넘어, 비즈니스 관점에서 고민하며 적어 봅시다."
   ]
  },
  {
   "cell_type": "code",
   "execution_count": null,
   "metadata": {
    "id": "SxVB-FBfLCdA"
   },
   "outputs": [],
   "source": []
  },
  {
   "cell_type": "markdown",
   "metadata": {
    "id": "0ypYwLk2LCdA"
   },
   "source": [
    "⑦ 추가 분석해 볼 사항이 있나요?"
   ]
  },
  {
   "cell_type": "code",
   "execution_count": null,
   "metadata": {
    "id": "vsbs9ewfLCdA"
   },
   "outputs": [],
   "source": []
  },
  {
   "cell_type": "markdown",
   "metadata": {
    "id": "ZghJJ7yLEpDA"
   },
   "source": [
    "## 3.이변량 분석 \n",
    "* 자료의 종류에 맞게 X --> Y 에 대해서 그래프(시각화)와 가설검정(수치화)를 수행하고 결과를 평가합니다.\n",
    "* 가설검정시 다음의 항목을 참조하여 수행합니다.\n",
    "    * 유의수준 : 5%\n",
    "    * 숫자 --> 숫자 : 상관분석\n",
    "    * 범주 --> 범주 : 카이제곱검정\n",
    "    * 범주 --> 숫자 : t검정, 분산분석\n",
    "    * 숫자 --> 범주 : 로지스틱 회귀모형을 통해, 회귀계수의 P.value로 검정을 수행합니다."
   ]
  },
  {
   "cell_type": "code",
   "execution_count": 191,
   "metadata": {
    "id": "qiWKeotjGkLp"
   },
   "outputs": [],
   "source": [
    "target = 'CHURN'"
   ]
  },
  {
   "cell_type": "markdown",
   "metadata": {
    "id": "fap08wfEMqtY"
   },
   "source": [
    "### (1) 범주형 Feature --> CHURN\n",
    "* 모든 범주형 Feature에 대해서 Y와 비교하여 차트를 그리고 수치화 하시오.  \n",
    "    ① 교차표(pd.crosstab())  \n",
    "    ② 시각화( Stacked Bar, Mosaic)  \n",
    "    ③ 가설검정(카이제곱검정)\n",
    "* 각 feature 별로 관계의 정도를 3가지로 정리해봅시다. "
   ]
  },
  {
   "cell_type": "code",
   "execution_count": 192,
   "metadata": {
    "id": "r4wGQJtSYRWD"
   },
   "outputs": [
    {
     "name": "stdout",
     "output_type": "stream",
     "text": [
      "0.49309742491688735\n"
     ]
    }
   ],
   "source": [
    "# 전체 이탈율\n",
    "total_mean = mobile1[target].mean()\n",
    "print(total_mean)"
   ]
  },
  {
   "cell_type": "markdown",
   "metadata": {
    "id": "Dh2UW7_S-yoq"
   },
   "source": [
    "#### 1) REPORTED_SATISFACTION --> CHURN"
   ]
  },
  {
   "cell_type": "code",
   "execution_count": 265,
   "metadata": {},
   "outputs": [
    {
     "data": {
      "text/plain": [
       "38"
      ]
     },
     "execution_count": 265,
     "metadata": {},
     "output_type": "execute_result"
    }
   ],
   "source": [
    "mobile['REPORTED_SATISFACTION'].isnull().sum()"
   ]
  },
  {
   "cell_type": "code",
   "execution_count": 267,
   "metadata": {},
   "outputs": [
    {
     "name": "stdout",
     "output_type": "stream",
     "text": [
      "<class 'pandas.core.frame.DataFrame'>\n",
      "Int64Index: 17962 entries, 0 to 17999\n",
      "Data columns (total 10 columns):\n",
      " #   Column                      Non-Null Count  Dtype  \n",
      "---  ------                      --------------  -----  \n",
      " 0   COLLEGE                     17962 non-null  int64  \n",
      " 1   INCOME                      17962 non-null  int64  \n",
      " 2   OVERAGE                     17962 non-null  int64  \n",
      " 3   LEFTOVER                    17962 non-null  int64  \n",
      " 4   HOUSE                       17747 non-null  float64\n",
      " 5   HANDSET_PRICE               17962 non-null  int64  \n",
      " 6   AVERAGE_CALL_DURATION       17962 non-null  int64  \n",
      " 7   REPORTED_SATISFACTION       17962 non-null  object \n",
      " 8   CONSIDERING_CHANGE_OF_PLAN  17962 non-null  object \n",
      " 9   CHURN                       17962 non-null  int64  \n",
      "dtypes: float64(1), int64(7), object(2)\n",
      "memory usage: 1.5+ MB\n"
     ]
    }
   ],
   "source": [
    "tmp = mobile[mobile['REPORTED_SATISFACTION'].notnull()]\n",
    "tmp.info()\n",
    "\n",
    "# REPORTED_SATISFACTION 의 결측치만 잠시 제거"
   ]
  },
  {
   "cell_type": "code",
   "execution_count": null,
   "metadata": {},
   "outputs": [],
   "source": []
  },
  {
   "cell_type": "code",
   "execution_count": 268,
   "metadata": {
    "id": "EWXtZEr_X0ok"
   },
   "outputs": [],
   "source": [
    "feature = 'REPORTED_SATISFACTION'"
   ]
  },
  {
   "cell_type": "markdown",
   "metadata": {
    "id": "sq4qjPyrXkS3"
   },
   "source": [
    "① 교차표(pd.crosstab())"
   ]
  },
  {
   "cell_type": "code",
   "execution_count": 277,
   "metadata": {
    "id": "qkS8v_BxX3Gk"
   },
   "outputs": [
    {
     "data": {
      "text/html": [
       "<div>\n",
       "<style scoped>\n",
       "    .dataframe tbody tr th:only-of-type {\n",
       "        vertical-align: middle;\n",
       "    }\n",
       "\n",
       "    .dataframe tbody tr th {\n",
       "        vertical-align: top;\n",
       "    }\n",
       "\n",
       "    .dataframe thead th {\n",
       "        text-align: right;\n",
       "    }\n",
       "</style>\n",
       "<table border=\"1\" class=\"dataframe\">\n",
       "  <thead>\n",
       "    <tr style=\"text-align: right;\">\n",
       "      <th>CHURN</th>\n",
       "      <th>0</th>\n",
       "      <th>1</th>\n",
       "    </tr>\n",
       "    <tr>\n",
       "      <th>REPORTED_SATISFACTION</th>\n",
       "      <th></th>\n",
       "      <th></th>\n",
       "    </tr>\n",
       "  </thead>\n",
       "  <tbody>\n",
       "    <tr>\n",
       "      <th>avg</th>\n",
       "      <td>952</td>\n",
       "      <td>854</td>\n",
       "    </tr>\n",
       "    <tr>\n",
       "      <th>sat</th>\n",
       "      <td>492</td>\n",
       "      <td>440</td>\n",
       "    </tr>\n",
       "    <tr>\n",
       "      <th>unsat</th>\n",
       "      <td>1792</td>\n",
       "      <td>1798</td>\n",
       "    </tr>\n",
       "    <tr>\n",
       "      <th>very_sat</th>\n",
       "      <td>2334</td>\n",
       "      <td>2228</td>\n",
       "    </tr>\n",
       "    <tr>\n",
       "      <th>very_unsat</th>\n",
       "      <td>3543</td>\n",
       "      <td>3529</td>\n",
       "    </tr>\n",
       "  </tbody>\n",
       "</table>\n",
       "</div>"
      ],
      "text/plain": [
       "CHURN                     0     1\n",
       "REPORTED_SATISFACTION            \n",
       "avg                     952   854\n",
       "sat                     492   440\n",
       "unsat                  1792  1798\n",
       "very_sat               2334  2228\n",
       "very_unsat             3543  3529"
      ]
     },
     "execution_count": 277,
     "metadata": {},
     "output_type": "execute_result"
    }
   ],
   "source": [
    "tab = pd.crosstab(tmp[feature], tmp[target])\n",
    "tab"
   ]
  },
  {
   "cell_type": "markdown",
   "metadata": {
    "id": "s2QiOyPmZ1Sy"
   },
   "source": [
    "② 시각화( Stacked Bar, Mosaic)"
   ]
  },
  {
   "cell_type": "code",
   "execution_count": 278,
   "metadata": {
    "id": "eLZgTrQqYciB"
   },
   "outputs": [
    {
     "data": {
      "text/html": [
       "<div>\n",
       "<style scoped>\n",
       "    .dataframe tbody tr th:only-of-type {\n",
       "        vertical-align: middle;\n",
       "    }\n",
       "\n",
       "    .dataframe tbody tr th {\n",
       "        vertical-align: top;\n",
       "    }\n",
       "\n",
       "    .dataframe thead th {\n",
       "        text-align: right;\n",
       "    }\n",
       "</style>\n",
       "<table border=\"1\" class=\"dataframe\">\n",
       "  <thead>\n",
       "    <tr style=\"text-align: right;\">\n",
       "      <th>CHURN</th>\n",
       "      <th>0</th>\n",
       "      <th>1</th>\n",
       "    </tr>\n",
       "    <tr>\n",
       "      <th>REPORTED_SATISFACTION</th>\n",
       "      <th></th>\n",
       "      <th></th>\n",
       "    </tr>\n",
       "  </thead>\n",
       "  <tbody>\n",
       "    <tr>\n",
       "      <th>avg</th>\n",
       "      <td>0.527132</td>\n",
       "      <td>0.472868</td>\n",
       "    </tr>\n",
       "    <tr>\n",
       "      <th>sat</th>\n",
       "      <td>0.527897</td>\n",
       "      <td>0.472103</td>\n",
       "    </tr>\n",
       "    <tr>\n",
       "      <th>unsat</th>\n",
       "      <td>0.499164</td>\n",
       "      <td>0.500836</td>\n",
       "    </tr>\n",
       "    <tr>\n",
       "      <th>very_sat</th>\n",
       "      <td>0.511618</td>\n",
       "      <td>0.488382</td>\n",
       "    </tr>\n",
       "    <tr>\n",
       "      <th>very_unsat</th>\n",
       "      <td>0.500990</td>\n",
       "      <td>0.499010</td>\n",
       "    </tr>\n",
       "  </tbody>\n",
       "</table>\n",
       "</div>"
      ],
      "text/plain": [
       "CHURN                         0         1\n",
       "REPORTED_SATISFACTION                    \n",
       "avg                    0.527132  0.472868\n",
       "sat                    0.527897  0.472103\n",
       "unsat                  0.499164  0.500836\n",
       "very_sat               0.511618  0.488382\n",
       "very_unsat             0.500990  0.499010"
      ]
     },
     "execution_count": 278,
     "metadata": {},
     "output_type": "execute_result"
    }
   ],
   "source": [
    "table = pd.crosstab(tmp[feature], tmp[target], normalize='index')\n",
    "table"
   ]
  },
  {
   "cell_type": "code",
   "execution_count": 279,
   "metadata": {
    "id": "RVjIC6RsaQfv"
   },
   "outputs": [
    {
     "data": {
      "image/png": "[encoded data removed]",
      "text/plain": [
       "<Figure size 432x288 with 1 Axes>"
      ]
     },
     "metadata": {
      "needs_background": "light"
     },
     "output_type": "display_data"
    }
   ],
   "source": [
    "table.plot.bar(stacked=True)\n",
    "plt.axhline(total_mean, color='r')\n",
    "plt.show()"
   ]
  },
  {
   "cell_type": "code",
   "execution_count": 280,
   "metadata": {},
   "outputs": [
    {
     "data": {
      "image/png": "[encoded data removed]",
      "text/plain": [
       "<Figure size 432x288 with 3 Axes>"
      ]
     },
     "metadata": {
      "needs_background": "light"
     },
     "output_type": "display_data"
    }
   ],
   "source": [
    "mosaic(mobile1,[feature,target])\n",
    "plt.axhline(total_mean, color='r')\n",
    "\n",
    "plt.show()"
   ]
  },
  {
   "cell_type": "markdown",
   "metadata": {
    "id": "V1pyYZ3ibCyO"
   },
   "source": [
    "시각화를 통해 파악한 내용을 적어 봅시다."
   ]
  },
  {
   "cell_type": "markdown",
   "metadata": {
    "id": "K7hA7NOjLOlp"
   },
   "source": [
    "> - 대부분 평균에 걸쳐있다.  \n",
    "> - 변화가 없을 것으로 예상."
   ]
  },
  {
   "cell_type": "markdown",
   "metadata": {
    "id": "8MX4b9jZbGal"
   },
   "source": [
    "③ 가설검정(카이제곱검정)"
   ]
  },
  {
   "cell_type": "code",
   "execution_count": 281,
   "metadata": {
    "id": "vMjinA9nLP2_"
   },
   "outputs": [
    {
     "name": "stdout",
     "output_type": "stream",
     "text": [
      "카이제곱 값 : 6.841100957205645\n",
      "p-value : 0.14452738878905058\n",
      "자유도 : 4\n",
      "기대도수\n",
      " [[ 916.27201871  889.72798129]\n",
      " [ 472.84912593  459.15087407]\n",
      " [1821.38236277 1768.61763723]\n",
      " [2314.5254426  2247.4745574 ]\n",
      " [3587.97104999 3484.02895001]]\n"
     ]
    }
   ],
   "source": [
    "result = spst.chi2_contingency(tab)\n",
    "\n",
    "print('카이제곱 값 :', result[0])\n",
    "print('p-value :', result[1])\n",
    "print('자유도 :', result[2])\n",
    "print('기대도수\\n', result[3])"
   ]
  },
  {
   "cell_type": "markdown",
   "metadata": {
    "id": "wuH_fPA6bTE1"
   },
   "source": [
    "④ 시각화와 가설검정을 통해서 파악한 내용을 적어 봅시다."
   ]
  },
  {
   "cell_type": "markdown",
   "metadata": {
    "id": "Eg_fzBzqbj0U"
   },
   "source": [
    "> - 그래프 : 각 분포가 평균에 걸쳐있어 영향을 끼친다 보기 어렵다.  \n",
    "> - p-value : 0.14453 으로 큰 편이다.\n",
    "\n",
    "> - 만족도 설문이 이탈여부에 영향을 준다 보기 어렵다."
   ]
  },
  {
   "cell_type": "markdown",
   "metadata": {
    "id": "4Xeo68yeLU98"
   },
   "source": [
    "#### 2) CONSIDERING_CHANGE_OF_PLAN --> CHURN"
   ]
  },
  {
   "cell_type": "code",
   "execution_count": 298,
   "metadata": {
    "id": "rA7_WcWzLU-E"
   },
   "outputs": [
    {
     "data": {
      "text/html": [
       "<div>\n",
       "<style scoped>\n",
       "    .dataframe tbody tr th:only-of-type {\n",
       "        vertical-align: middle;\n",
       "    }\n",
       "\n",
       "    .dataframe tbody tr th {\n",
       "        vertical-align: top;\n",
       "    }\n",
       "\n",
       "    .dataframe thead th {\n",
       "        text-align: right;\n",
       "    }\n",
       "</style>\n",
       "<table border=\"1\" class=\"dataframe\">\n",
       "  <thead>\n",
       "    <tr style=\"text-align: right;\">\n",
       "      <th></th>\n",
       "      <th>COLLEGE</th>\n",
       "      <th>INCOME</th>\n",
       "      <th>OVERAGE</th>\n",
       "      <th>LEFTOVER</th>\n",
       "      <th>HOUSE</th>\n",
       "      <th>HANDSET_PRICE</th>\n",
       "      <th>AVERAGE_CALL_DURATION</th>\n",
       "      <th>REPORTED_SATISFACTION</th>\n",
       "      <th>CONSIDERING_CHANGE_OF_PLAN</th>\n",
       "      <th>CHURN</th>\n",
       "    </tr>\n",
       "  </thead>\n",
       "  <tbody>\n",
       "    <tr>\n",
       "      <th>0</th>\n",
       "      <td>1</td>\n",
       "      <td>47711</td>\n",
       "      <td>183</td>\n",
       "      <td>17</td>\n",
       "      <td>730589.0</td>\n",
       "      <td>192</td>\n",
       "      <td>5</td>\n",
       "      <td>unsat</td>\n",
       "      <td>considering</td>\n",
       "      <td>0</td>\n",
       "    </tr>\n",
       "    <tr>\n",
       "      <th>1</th>\n",
       "      <td>0</td>\n",
       "      <td>74132</td>\n",
       "      <td>191</td>\n",
       "      <td>43</td>\n",
       "      <td>535092.0</td>\n",
       "      <td>349</td>\n",
       "      <td>2</td>\n",
       "      <td>unsat</td>\n",
       "      <td>no</td>\n",
       "      <td>1</td>\n",
       "    </tr>\n",
       "    <tr>\n",
       "      <th>2</th>\n",
       "      <td>1</td>\n",
       "      <td>150419</td>\n",
       "      <td>0</td>\n",
       "      <td>14</td>\n",
       "      <td>204004.0</td>\n",
       "      <td>682</td>\n",
       "      <td>6</td>\n",
       "      <td>unsat</td>\n",
       "      <td>considering</td>\n",
       "      <td>0</td>\n",
       "    </tr>\n",
       "  </tbody>\n",
       "</table>\n",
       "</div>"
      ],
      "text/plain": [
       "   COLLEGE  INCOME  OVERAGE  LEFTOVER     HOUSE  HANDSET_PRICE  \\\n",
       "0        1   47711      183        17  730589.0            192   \n",
       "1        0   74132      191        43  535092.0            349   \n",
       "2        1  150419        0        14  204004.0            682   \n",
       "\n",
       "   AVERAGE_CALL_DURATION REPORTED_SATISFACTION CONSIDERING_CHANGE_OF_PLAN  \\\n",
       "0                      5                 unsat                considering   \n",
       "1                      2                 unsat                         no   \n",
       "2                      6                 unsat                considering   \n",
       "\n",
       "   CHURN  \n",
       "0      0  \n",
       "1      1  \n",
       "2      0  "
      ]
     },
     "execution_count": 298,
     "metadata": {},
     "output_type": "execute_result"
    }
   ],
   "source": [
    "mobile1.head(3)\n",
    "\n",
    "# 변경계획설문"
   ]
  },
  {
   "cell_type": "code",
   "execution_count": 299,
   "metadata": {},
   "outputs": [],
   "source": [
    "feature = 'CONSIDERING_CHANGE_OF_PLAN'"
   ]
  },
  {
   "cell_type": "markdown",
   "metadata": {
    "id": "mjCkvEsXLU-F"
   },
   "source": [
    "① 교차표(pd.crosstab())"
   ]
  },
  {
   "cell_type": "code",
   "execution_count": 300,
   "metadata": {
    "id": "nGFqFTN3LU-F"
   },
   "outputs": [
    {
     "data": {
      "text/html": [
       "<div>\n",
       "<style scoped>\n",
       "    .dataframe tbody tr th:only-of-type {\n",
       "        vertical-align: middle;\n",
       "    }\n",
       "\n",
       "    .dataframe tbody tr th {\n",
       "        vertical-align: top;\n",
       "    }\n",
       "\n",
       "    .dataframe thead th {\n",
       "        text-align: right;\n",
       "    }\n",
       "</style>\n",
       "<table border=\"1\" class=\"dataframe\">\n",
       "  <thead>\n",
       "    <tr style=\"text-align: right;\">\n",
       "      <th>CHURN</th>\n",
       "      <th>0</th>\n",
       "      <th>1</th>\n",
       "    </tr>\n",
       "    <tr>\n",
       "      <th>CONSIDERING_CHANGE_OF_PLAN</th>\n",
       "      <th></th>\n",
       "      <th></th>\n",
       "    </tr>\n",
       "  </thead>\n",
       "  <tbody>\n",
       "    <tr>\n",
       "      <th>actively_looking_into_it</th>\n",
       "      <td>2278</td>\n",
       "      <td>2175</td>\n",
       "    </tr>\n",
       "    <tr>\n",
       "      <th>considering</th>\n",
       "      <td>3648</td>\n",
       "      <td>3493</td>\n",
       "    </tr>\n",
       "    <tr>\n",
       "      <th>never_thought</th>\n",
       "      <td>926</td>\n",
       "      <td>878</td>\n",
       "    </tr>\n",
       "    <tr>\n",
       "      <th>no</th>\n",
       "      <td>1823</td>\n",
       "      <td>1821</td>\n",
       "    </tr>\n",
       "    <tr>\n",
       "      <th>perhaps</th>\n",
       "      <td>456</td>\n",
       "      <td>502</td>\n",
       "    </tr>\n",
       "  </tbody>\n",
       "</table>\n",
       "</div>"
      ],
      "text/plain": [
       "CHURN                          0     1\n",
       "CONSIDERING_CHANGE_OF_PLAN            \n",
       "actively_looking_into_it    2278  2175\n",
       "considering                 3648  3493\n",
       "never_thought                926   878\n",
       "no                          1823  1821\n",
       "perhaps                      456   502"
      ]
     },
     "execution_count": 300,
     "metadata": {},
     "output_type": "execute_result"
    }
   ],
   "source": [
    "tab = pd.crosstab(mobile[feature], mobile[target])\n",
    "tab"
   ]
  },
  {
   "cell_type": "markdown",
   "metadata": {
    "id": "KTlO_nVILU-F"
   },
   "source": [
    "② 시각화( Stacked Bar, Mosaic)"
   ]
  },
  {
   "cell_type": "code",
   "execution_count": 301,
   "metadata": {
    "id": "YtT2BhqvLU-F"
   },
   "outputs": [
    {
     "data": {
      "text/html": [
       "<div>\n",
       "<style scoped>\n",
       "    .dataframe tbody tr th:only-of-type {\n",
       "        vertical-align: middle;\n",
       "    }\n",
       "\n",
       "    .dataframe tbody tr th {\n",
       "        vertical-align: top;\n",
       "    }\n",
       "\n",
       "    .dataframe thead th {\n",
       "        text-align: right;\n",
       "    }\n",
       "</style>\n",
       "<table border=\"1\" class=\"dataframe\">\n",
       "  <thead>\n",
       "    <tr style=\"text-align: right;\">\n",
       "      <th>CHURN</th>\n",
       "      <th>0</th>\n",
       "      <th>1</th>\n",
       "    </tr>\n",
       "    <tr>\n",
       "      <th>CONSIDERING_CHANGE_OF_PLAN</th>\n",
       "      <th></th>\n",
       "      <th></th>\n",
       "    </tr>\n",
       "  </thead>\n",
       "  <tbody>\n",
       "    <tr>\n",
       "      <th>actively_looking_into_it</th>\n",
       "      <td>0.511565</td>\n",
       "      <td>0.488435</td>\n",
       "    </tr>\n",
       "    <tr>\n",
       "      <th>considering</th>\n",
       "      <td>0.510853</td>\n",
       "      <td>0.489147</td>\n",
       "    </tr>\n",
       "    <tr>\n",
       "      <th>never_thought</th>\n",
       "      <td>0.513304</td>\n",
       "      <td>0.486696</td>\n",
       "    </tr>\n",
       "    <tr>\n",
       "      <th>no</th>\n",
       "      <td>0.500274</td>\n",
       "      <td>0.499726</td>\n",
       "    </tr>\n",
       "    <tr>\n",
       "      <th>perhaps</th>\n",
       "      <td>0.475992</td>\n",
       "      <td>0.524008</td>\n",
       "    </tr>\n",
       "  </tbody>\n",
       "</table>\n",
       "</div>"
      ],
      "text/plain": [
       "CHURN                              0         1\n",
       "CONSIDERING_CHANGE_OF_PLAN                    \n",
       "actively_looking_into_it    0.511565  0.488435\n",
       "considering                 0.510853  0.489147\n",
       "never_thought               0.513304  0.486696\n",
       "no                          0.500274  0.499726\n",
       "perhaps                     0.475992  0.524008"
      ]
     },
     "execution_count": 301,
     "metadata": {},
     "output_type": "execute_result"
    }
   ],
   "source": [
    "table = pd.crosstab(mobile[feature], mobile[target], normalize='index')\n",
    "table"
   ]
  },
  {
   "cell_type": "code",
   "execution_count": 302,
   "metadata": {
    "id": "5w_CVrhwLU-G"
   },
   "outputs": [
    {
     "data": {
      "image/png": "[encoded data removed]",
      "text/plain": [
       "<Figure size 432x288 with 1 Axes>"
      ]
     },
     "metadata": {
      "needs_background": "light"
     },
     "output_type": "display_data"
    }
   ],
   "source": [
    "table.plot.bar(stacked=True)\n",
    "plt.axhline(total_mean, color='r')\n",
    "\n",
    "plt.xticks(rotation=45)\n",
    "plt.show()"
   ]
  },
  {
   "cell_type": "code",
   "execution_count": 303,
   "metadata": {},
   "outputs": [
    {
     "data": {
      "text/plain": [
       "<Figure size 1152x720 with 0 Axes>"
      ]
     },
     "metadata": {},
     "output_type": "display_data"
    },
    {
     "data": {
      "image/png": "[encoded data removed]",
      "text/plain": [
       "<Figure size 432x288 with 3 Axes>"
      ]
     },
     "metadata": {
      "needs_background": "light"
     },
     "output_type": "display_data"
    }
   ],
   "source": [
    "plt.figure(figsize=(16,10))\n",
    "mosaic(mobile1, [feature, target])\n",
    "plt.axhline(total_mean, color='r')\n",
    "\n",
    "plt.xticks(rotation=45)\n",
    "plt.show()"
   ]
  },
  {
   "cell_type": "markdown",
   "metadata": {
    "id": "_Uo9zuseLU-G"
   },
   "source": [
    "시각화를 통해 파악한 내용을 적어 봅시다."
   ]
  },
  {
   "cell_type": "markdown",
   "metadata": {
    "id": "GV1EhOn6LU-G"
   },
   "source": [
    "> - 각각이 비교적 평균선에 분포한다.  \n",
    "> - 영향이 있다고 보기 어렵다."
   ]
  },
  {
   "cell_type": "markdown",
   "metadata": {
    "id": "qvnoTO3ZLU-G"
   },
   "source": [
    "③ 가설검정(카이제곱검정)"
   ]
  },
  {
   "cell_type": "code",
   "execution_count": 304,
   "metadata": {
    "id": "t4Y0HcRuLU-H"
   },
   "outputs": [
    {
     "name": "stdout",
     "output_type": "stream",
     "text": [
      "카이제곱 값 : 5.421434419620688\n",
      "p-value : 0.24672225866799702\n",
      "자유도 : 4\n",
      "기대도수\n",
      " [[2258.90794444 2194.09205556]\n",
      " [3622.47061111 3518.52938889]\n",
      " [ 915.12911111  888.87088889]\n",
      " [1848.52022222 1795.47977778]\n",
      " [ 485.97211111  472.02788889]]\n"
     ]
    }
   ],
   "source": [
    "result = spst.chi2_contingency(tab)\n",
    "\n",
    "print('카이제곱 값 :', result[0])\n",
    "print('p-value :', result[1])\n",
    "print('자유도 :', result[2])\n",
    "print('기대도수\\n', result[3])"
   ]
  },
  {
   "cell_type": "markdown",
   "metadata": {
    "id": "mRrRp1C_LU-H"
   },
   "source": [
    "④ 시각화와 가설검정을 통해서 파악한 내용을 적어 봅시다."
   ]
  },
  {
   "cell_type": "markdown",
   "metadata": {
    "id": "IMI0Vs_cLU-H"
   },
   "source": [
    "> - 그래프 : 각각 평균선에 비슷하게 분포한다.  \n",
    "> - p-value : 0.28337로 큰 편에 속한다.\n",
    "\n",
    "> - 변경계획설문이 고객 이탈여부에 영향을 준다보기 어렵다."
   ]
  },
  {
   "cell_type": "markdown",
   "metadata": {
    "id": "bdWZCugILZAz"
   },
   "source": [
    "#### 3) feature --> CHURN"
   ]
  },
  {
   "cell_type": "code",
   "execution_count": null,
   "metadata": {
    "id": "H7UDK6CKLZAz"
   },
   "outputs": [],
   "source": []
  },
  {
   "cell_type": "markdown",
   "metadata": {
    "id": "0UmyfctOLZAz"
   },
   "source": [
    "① 교차표(pd.crosstab())"
   ]
  },
  {
   "cell_type": "code",
   "execution_count": null,
   "metadata": {
    "id": "BrgYOjaOLZAz"
   },
   "outputs": [],
   "source": []
  },
  {
   "cell_type": "markdown",
   "metadata": {
    "id": "Wjo9OCLWLZA0"
   },
   "source": [
    "② 시각화( Stacked Bar, Mosaic)"
   ]
  },
  {
   "cell_type": "code",
   "execution_count": null,
   "metadata": {
    "id": "9yvaMb4fLZA0"
   },
   "outputs": [],
   "source": []
  },
  {
   "cell_type": "code",
   "execution_count": null,
   "metadata": {
    "id": "Ea9O1R16LZA0"
   },
   "outputs": [],
   "source": []
  },
  {
   "cell_type": "markdown",
   "metadata": {
    "id": "BdNn9DkYLZA0"
   },
   "source": [
    "시각화를 통해 파악한 내용을 적어 봅시다."
   ]
  },
  {
   "cell_type": "code",
   "execution_count": null,
   "metadata": {
    "id": "DG4sUGNxLZA0"
   },
   "outputs": [],
   "source": []
  },
  {
   "cell_type": "markdown",
   "metadata": {
    "id": "lqhgW7HGLZA0"
   },
   "source": [
    "③ 가설검정(카이제곱검정)"
   ]
  },
  {
   "cell_type": "code",
   "execution_count": null,
   "metadata": {
    "id": "d3x9b9yCLZA0"
   },
   "outputs": [],
   "source": []
  },
  {
   "cell_type": "markdown",
   "metadata": {
    "id": "7vM4xafWLZA0"
   },
   "source": [
    "④ 시각화와 가설검정을 통해서 파악한 내용을 적어 봅시다."
   ]
  },
  {
   "cell_type": "markdown",
   "metadata": {
    "id": "ALHUL0qPLZA1"
   },
   "source": []
  },
  {
   "cell_type": "markdown",
   "metadata": {
    "id": "lUsQ0iBHMqte"
   },
   "source": [
    "### (2) 숫자형 Feature --> CHURN\n",
    "\n",
    "* 숫자형 Feature에 대해서 Y와 비교하여 차트를 그리고 수치화 하시오.  \n",
    "    ① 그래프 : histogram, densityplot   \n",
    "    ② 수치화 : 로지스틱회귀"
   ]
  },
  {
   "cell_type": "markdown",
   "metadata": {
    "id": "F_Mugk3f_y3X"
   },
   "source": [
    "#### 1) OVERAGE --> CHURN\n"
   ]
  },
  {
   "cell_type": "code",
   "execution_count": 288,
   "metadata": {},
   "outputs": [],
   "source": [
    "feature = 'OVERAGE'"
   ]
  },
  {
   "cell_type": "code",
   "execution_count": 211,
   "metadata": {
    "id": "8ROLKtUueHSn"
   },
   "outputs": [
    {
     "data": {
      "text/html": [
       "<div>\n",
       "<style scoped>\n",
       "    .dataframe tbody tr th:only-of-type {\n",
       "        vertical-align: middle;\n",
       "    }\n",
       "\n",
       "    .dataframe tbody tr th {\n",
       "        vertical-align: top;\n",
       "    }\n",
       "\n",
       "    .dataframe thead th {\n",
       "        text-align: right;\n",
       "    }\n",
       "</style>\n",
       "<table border=\"1\" class=\"dataframe\">\n",
       "  <thead>\n",
       "    <tr style=\"text-align: right;\">\n",
       "      <th></th>\n",
       "      <th>COLLEGE</th>\n",
       "      <th>INCOME</th>\n",
       "      <th>OVERAGE</th>\n",
       "      <th>LEFTOVER</th>\n",
       "      <th>HOUSE</th>\n",
       "      <th>HANDSET_PRICE</th>\n",
       "      <th>AVERAGE_CALL_DURATION</th>\n",
       "      <th>REPORTED_SATISFACTION</th>\n",
       "      <th>CONSIDERING_CHANGE_OF_PLAN</th>\n",
       "      <th>CHURN</th>\n",
       "    </tr>\n",
       "  </thead>\n",
       "  <tbody>\n",
       "    <tr>\n",
       "      <th>0</th>\n",
       "      <td>1</td>\n",
       "      <td>47711</td>\n",
       "      <td>183</td>\n",
       "      <td>17</td>\n",
       "      <td>730589.0</td>\n",
       "      <td>192</td>\n",
       "      <td>5</td>\n",
       "      <td>unsat</td>\n",
       "      <td>considering</td>\n",
       "      <td>0</td>\n",
       "    </tr>\n",
       "    <tr>\n",
       "      <th>1</th>\n",
       "      <td>0</td>\n",
       "      <td>74132</td>\n",
       "      <td>191</td>\n",
       "      <td>43</td>\n",
       "      <td>535092.0</td>\n",
       "      <td>349</td>\n",
       "      <td>2</td>\n",
       "      <td>unsat</td>\n",
       "      <td>no</td>\n",
       "      <td>1</td>\n",
       "    </tr>\n",
       "    <tr>\n",
       "      <th>2</th>\n",
       "      <td>1</td>\n",
       "      <td>150419</td>\n",
       "      <td>0</td>\n",
       "      <td>14</td>\n",
       "      <td>204004.0</td>\n",
       "      <td>682</td>\n",
       "      <td>6</td>\n",
       "      <td>unsat</td>\n",
       "      <td>considering</td>\n",
       "      <td>0</td>\n",
       "    </tr>\n",
       "  </tbody>\n",
       "</table>\n",
       "</div>"
      ],
      "text/plain": [
       "   COLLEGE  INCOME  OVERAGE  LEFTOVER     HOUSE  HANDSET_PRICE  \\\n",
       "0        1   47711      183        17  730589.0            192   \n",
       "1        0   74132      191        43  535092.0            349   \n",
       "2        1  150419        0        14  204004.0            682   \n",
       "\n",
       "   AVERAGE_CALL_DURATION REPORTED_SATISFACTION CONSIDERING_CHANGE_OF_PLAN  \\\n",
       "0                      5                 unsat                considering   \n",
       "1                      2                 unsat                         no   \n",
       "2                      6                 unsat                considering   \n",
       "\n",
       "   CHURN  \n",
       "0      0  \n",
       "1      1  \n",
       "2      0  "
      ]
     },
     "execution_count": 211,
     "metadata": {},
     "output_type": "execute_result"
    }
   ],
   "source": [
    "mobile1.head(3)"
   ]
  },
  {
   "cell_type": "markdown",
   "metadata": {
    "id": "iZwchGY8eRH_"
   },
   "source": [
    "① 그래프 : histogram, densityplot"
   ]
  },
  {
   "cell_type": "code",
   "execution_count": 289,
   "metadata": {
    "id": "zkMwa2_hLj0J"
   },
   "outputs": [
    {
     "data": {
      "image/png": "[encoded data removed]",
      "text/plain": [
       "<Figure size 432x288 with 1 Axes>"
      ]
     },
     "metadata": {
      "needs_background": "light"
     },
     "output_type": "display_data"
    }
   ],
   "source": [
    "sns.histplot(data=mobile1, x=feature, hue=target, bins=20)\n",
    "plt.show()"
   ]
  },
  {
   "cell_type": "code",
   "execution_count": 213,
   "metadata": {},
   "outputs": [
    {
     "data": {
      "image/png": "[encoded data removed]",
      "text/plain": [
       "<Figure size 432x288 with 1 Axes>"
      ]
     },
     "metadata": {
      "needs_background": "light"
     },
     "output_type": "display_data"
    }
   ],
   "source": [
    "sns.kdeplot(data=mobile1, x=feature, hue=target)\n",
    "plt.show()"
   ]
  },
  {
   "cell_type": "code",
   "execution_count": null,
   "metadata": {},
   "outputs": [],
   "source": []
  },
  {
   "cell_type": "markdown",
   "metadata": {
    "id": "62LpmfYBfADw"
   },
   "source": [
    "시각화를 통해 파악한 내용을 적어 봅시다."
   ]
  },
  {
   "cell_type": "markdown",
   "metadata": {
    "id": "36-jxwdxLnQd"
   },
   "source": [
    "> - 그래프에 차이나는 구간이 있다.\n",
    "> - 약 100에서 교차가 일어난다.\n",
    "> - 100보다 작을 때 이탈율이 낮고, 100보다 클 때 이탈율이 더 높다."
   ]
  },
  {
   "cell_type": "markdown",
   "metadata": {
    "id": "AMOh1uw2fVoO"
   },
   "source": [
    "② 수치화 : 로지스틱회귀"
   ]
  },
  {
   "cell_type": "code",
   "execution_count": 215,
   "metadata": {
    "id": "_trwmx6iLn5M"
   },
   "outputs": [
    {
     "name": "stdout",
     "output_type": "stream",
     "text": [
      "Optimization terminated successfully.\n",
      "         Current function value: 0.680632\n",
      "         Iterations 4\n",
      "OVERAGE    2.805475e-95\n",
      "dtype: float64\n"
     ]
    }
   ],
   "source": [
    "model = sm.Logit(mobile1[target], mobile1[feature])   # y, x 순서 지켜야함.\n",
    "result = model.fit()\n",
    "print(result.pvalues)"
   ]
  },
  {
   "cell_type": "markdown",
   "metadata": {
    "id": "1QGY11sufcJ1"
   },
   "source": [
    "③ 시각화와 수치화를 통해 파악한 내용을 적어 봅시다."
   ]
  },
  {
   "cell_type": "markdown",
   "metadata": {
    "id": "vlSGRH0fLpBU"
   },
   "source": [
    "> - 그래프 : 차이나는 구간이 있으나, 증감 추세가 같다. 애매하다.  \n",
    "> - p-value : 0에 가깝다.\n",
    "\n",
    "> - p-value 가 0에 가까우므로 영향이 있는 편이다."
   ]
  },
  {
   "cell_type": "markdown",
   "metadata": {
    "id": "QwikcGXELsny"
   },
   "source": [
    "#### 2) AVERAGE_CALL_DURATION --> CHURN\n"
   ]
  },
  {
   "cell_type": "code",
   "execution_count": 216,
   "metadata": {
    "id": "bGWLTAg9Lsny"
   },
   "outputs": [],
   "source": [
    "feature = 'AVERAGE_CALL_DURATION'"
   ]
  },
  {
   "cell_type": "markdown",
   "metadata": {
    "id": "sc7eLRzfLsny"
   },
   "source": [
    "① 그래프 : histogram, densityplot"
   ]
  },
  {
   "cell_type": "code",
   "execution_count": 218,
   "metadata": {
    "id": "0o0O0EE4Lsnz"
   },
   "outputs": [
    {
     "data": {
      "image/png": "[encoded data removed]",
      "text/plain": [
       "<Figure size 432x288 with 1 Axes>"
      ]
     },
     "metadata": {
      "needs_background": "light"
     },
     "output_type": "display_data"
    }
   ],
   "source": [
    "sns.histplot(data=mobile1, x=feature, hue=target, bins=20)\n",
    "plt.show()"
   ]
  },
  {
   "cell_type": "code",
   "execution_count": 219,
   "metadata": {},
   "outputs": [
    {
     "data": {
      "image/png": "[encoded data removed]",
      "text/plain": [
       "<Figure size 432x288 with 1 Axes>"
      ]
     },
     "metadata": {
      "needs_background": "light"
     },
     "output_type": "display_data"
    }
   ],
   "source": [
    "sns.kdeplot(data=mobile1, x=feature, hue=target)\n",
    "plt.show()"
   ]
  },
  {
   "cell_type": "code",
   "execution_count": null,
   "metadata": {},
   "outputs": [],
   "source": []
  },
  {
   "cell_type": "markdown",
   "metadata": {
    "id": "-S8NZ40hLsnz"
   },
   "source": [
    "시각화를 통해 파악한 내용을 적어 봅시다."
   ]
  },
  {
   "cell_type": "markdown",
   "metadata": {
    "id": "pKEyp-p4Lsnz"
   },
   "source": [
    "> - 그래프에 차이가 있어보이나, 증감 추세가 비슷하다.\n",
    "\n",
    "> - 약 3, 7.5 에서 교차가 일어난다.\n",
    "> - 3 이하 : 이탈율이 더 높다.  \n",
    "> - 3 ~ 7.5 : 이탈율이 더 낮다.\n",
    "> - 7.5 이상 : 이탈율이 약간 높다."
   ]
  },
  {
   "cell_type": "markdown",
   "metadata": {
    "id": "YasEY4wlLsnz"
   },
   "source": [
    "② 수치화 : 로지스틱회귀"
   ]
  },
  {
   "cell_type": "code",
   "execution_count": 221,
   "metadata": {
    "id": "rRC3VUPyLsnz"
   },
   "outputs": [
    {
     "name": "stdout",
     "output_type": "stream",
     "text": [
      "Optimization terminated successfully.\n",
      "         Current function value: 0.693031\n",
      "         Iterations 3\n",
      "AVERAGE_CALL_DURATION    0.042621\n",
      "dtype: float64\n"
     ]
    }
   ],
   "source": [
    "model = sm.Logit(mobile1[target], mobile1[feature])   # y, x 순서 지켜야함.\n",
    "result = model.fit()\n",
    "print(result.pvalues)"
   ]
  },
  {
   "cell_type": "markdown",
   "metadata": {
    "id": "KCY04YNhLsnz"
   },
   "source": [
    "③ 시각화와 수치화를 통해 파악한 내용을 적어 봅시다."
   ]
  },
  {
   "cell_type": "markdown",
   "metadata": {
    "id": "ksIkHGlILsnz"
   },
   "source": [
    "> - 그래프 : 차이가 나는 구간이 있으나, 증감 추세가 비슷하다.\n",
    "> - p-value : 0.04262 로 0.05보단 작으나 강한 영향을 미친다 보기 어렵다.\n",
    "\n",
    "> - 평균 통화시간이 고객 이탈여부에 약한 영향을 미칠 수 있다."
   ]
  },
  {
   "cell_type": "markdown",
   "metadata": {
    "id": "KkyjTXOqLsyK"
   },
   "source": [
    "#### 3) LEFTOVER --> CHURN\n"
   ]
  },
  {
   "cell_type": "code",
   "execution_count": 222,
   "metadata": {
    "id": "ZNHDXzGALsyK"
   },
   "outputs": [],
   "source": [
    "feature = 'LEFTOVER'"
   ]
  },
  {
   "cell_type": "markdown",
   "metadata": {
    "id": "LbKQ02H1LsyK"
   },
   "source": [
    "① 그래프 : histogram, densityplot"
   ]
  },
  {
   "cell_type": "code",
   "execution_count": 223,
   "metadata": {
    "id": "drZtogsiLsyK"
   },
   "outputs": [
    {
     "data": {
      "text/plain": [
       "<AxesSubplot:xlabel='LEFTOVER', ylabel='Count'>"
      ]
     },
     "execution_count": 223,
     "metadata": {},
     "output_type": "execute_result"
    },
    {
     "data": {
      "image/png": "[encoded data removed]",
      "text/plain": [
       "<Figure size 432x288 with 1 Axes>"
      ]
     },
     "metadata": {
      "needs_background": "light"
     },
     "output_type": "display_data"
    }
   ],
   "source": [
    "sns.histplot(data=mobile1, x=feature, hue=target, bins=30)"
   ]
  },
  {
   "cell_type": "code",
   "execution_count": 224,
   "metadata": {},
   "outputs": [
    {
     "data": {
      "image/png": "[encoded data removed]",
      "text/plain": [
       "<Figure size 432x288 with 1 Axes>"
      ]
     },
     "metadata": {
      "needs_background": "light"
     },
     "output_type": "display_data"
    }
   ],
   "source": [
    "sns.kdeplot(data=mobile1, x=feature, hue=target)\n",
    "plt.show()"
   ]
  },
  {
   "cell_type": "markdown",
   "metadata": {
    "id": "54OoAr6HLsyK"
   },
   "source": [
    "시각화를 통해 파악한 내용을 적어 봅시다."
   ]
  },
  {
   "cell_type": "markdown",
   "metadata": {
    "id": "CkUinMKILsyL"
   },
   "source": [
    "> 그래프 상 차이가 나는 구간이 발생한다."
   ]
  },
  {
   "cell_type": "markdown",
   "metadata": {
    "id": "GFqQUDBpLsyL"
   },
   "source": [
    "② 수치화 : 로지스틱회귀"
   ]
  },
  {
   "cell_type": "code",
   "execution_count": 225,
   "metadata": {
    "id": "n14GnGGmLsyL"
   },
   "outputs": [
    {
     "name": "stdout",
     "output_type": "stream",
     "text": [
      "Optimization terminated successfully.\n",
      "         Current function value: 0.692518\n",
      "         Iterations 3\n",
      "LEFTOVER    0.000002\n",
      "dtype: float64\n"
     ]
    }
   ],
   "source": [
    "model = sm.Logit(mobile1[target], mobile1[feature])   # y, x 순서 지켜야함.\n",
    "result = model.fit()\n",
    "print(result.pvalues)"
   ]
  },
  {
   "cell_type": "markdown",
   "metadata": {
    "id": "-Z-KF5qfLsyL"
   },
   "source": [
    "③ 시각화와 수치화를 통해 파악한 내용을 적어 봅시다."
   ]
  },
  {
   "cell_type": "markdown",
   "metadata": {
    "id": "v6dc_7p_LsyL"
   },
   "source": [
    "> - 그래프 : 차이가 나는 구간이 발생한다.\n",
    "> - p-value : 0.000002 로 0에 가깝다.\n",
    "\n",
    "> - 월 사용 잔여시간이 고객 이탈여부에 영향을 미친다 볼 수 있다."
   ]
  },
  {
   "cell_type": "markdown",
   "metadata": {
    "id": "Jd4WbbU-jqU3"
   },
   "source": [
    "## 4.관계 정리"
   ]
  },
  {
   "cell_type": "markdown",
   "metadata": {
    "id": "bKmN0rtAjto6"
   },
   "source": [
    "### 1) 강한관계의 변수"
   ]
  },
  {
   "cell_type": "markdown",
   "metadata": {
    "id": "lx6Np73PL0YS"
   },
   "source": [
    "LEFTOVER, OVERAGE"
   ]
  },
  {
   "cell_type": "markdown",
   "metadata": {
    "id": "u8B765zNjwp5"
   },
   "source": [
    "### 2) 약한관계의 변수"
   ]
  },
  {
   "cell_type": "markdown",
   "metadata": {
    "id": "kg8-QylzL1kE"
   },
   "source": [
    "AVERAGE_CALL_DURATION"
   ]
  },
  {
   "cell_type": "markdown",
   "metadata": {
    "id": "eYiQ9OUijwdq"
   },
   "source": [
    "### 3) 관계 없음"
   ]
  },
  {
   "cell_type": "markdown",
   "metadata": {
    "id": "K0o6lwH5L2Wj"
   },
   "source": [
    "REPORTED_SATISFACTION, CONSIDERING_CHANGE_OF_PLAN"
   ]
  },
  {
   "cell_type": "markdown",
   "metadata": {
    "id": "nePF6KE6jlX6"
   },
   "source": [
    "## 5.추가 분석"
   ]
  },
  {
   "cell_type": "code",
   "execution_count": 233,
   "metadata": {
    "id": "B8E9F24bkYTn",
    "scrolled": true
   },
   "outputs": [
    {
     "data": {
      "text/plain": [
       "count    18000.000000\n",
       "mean        86.014833\n",
       "std         85.963981\n",
       "min         -2.000000\n",
       "25%          0.000000\n",
       "50%         59.000000\n",
       "75%        179.000000\n",
       "max        335.000000\n",
       "Name: OVERAGE, dtype: float64"
      ]
     },
     "execution_count": 233,
     "metadata": {},
     "output_type": "execute_result"
    }
   ],
   "source": [
    "mobile['OVERAGE'].describe()\n"
   ]
  },
  {
   "cell_type": "code",
   "execution_count": 282,
   "metadata": {
    "id": "DUL6jc1SL5QL"
   },
   "outputs": [
    {
     "data": {
      "text/plain": [
       "count    17962.000000\n",
       "mean        86.019263\n",
       "std         85.966366\n",
       "min         -2.000000\n",
       "25%          0.000000\n",
       "50%         59.000000\n",
       "75%        179.000000\n",
       "max        335.000000\n",
       "Name: OVERAGE, dtype: float64"
      ]
     },
     "execution_count": 282,
     "metadata": {},
     "output_type": "execute_result"
    }
   ],
   "source": [
    "tmp['OVERAGE'].describe()"
   ]
  },
  {
   "cell_type": "code",
   "execution_count": 283,
   "metadata": {
    "id": "rW-_G3TiL5HV"
   },
   "outputs": [
    {
     "name": "stdout",
     "output_type": "stream",
     "text": [
      "<class 'pandas.core.frame.DataFrame'>\n",
      "Int64Index: 17999 entries, 0 to 17999\n",
      "Data columns (total 10 columns):\n",
      " #   Column                      Non-Null Count  Dtype  \n",
      "---  ------                      --------------  -----  \n",
      " 0   COLLEGE                     17999 non-null  int64  \n",
      " 1   INCOME                      17999 non-null  int64  \n",
      " 2   OVERAGE                     17999 non-null  int64  \n",
      " 3   LEFTOVER                    17999 non-null  int64  \n",
      " 4   HOUSE                       17784 non-null  float64\n",
      " 5   HANDSET_PRICE               17999 non-null  int64  \n",
      " 6   AVERAGE_CALL_DURATION       17999 non-null  int64  \n",
      " 7   REPORTED_SATISFACTION       17961 non-null  object \n",
      " 8   CONSIDERING_CHANGE_OF_PLAN  17999 non-null  object \n",
      " 9   CHURN                       17999 non-null  int64  \n",
      "dtypes: float64(1), int64(7), object(2)\n",
      "memory usage: 1.5+ MB\n"
     ]
    }
   ],
   "source": [
    "mobile_overage = mobile[mobile['OVERAGE']>=0]\n",
    "mobile_overage.info()"
   ]
  },
  {
   "cell_type": "code",
   "execution_count": 284,
   "metadata": {},
   "outputs": [
    {
     "name": "stdout",
     "output_type": "stream",
     "text": [
      "<class 'pandas.core.frame.DataFrame'>\n",
      "RangeIndex: 18000 entries, 0 to 17999\n",
      "Data columns (total 10 columns):\n",
      " #   Column                      Non-Null Count  Dtype  \n",
      "---  ------                      --------------  -----  \n",
      " 0   COLLEGE                     18000 non-null  int64  \n",
      " 1   INCOME                      18000 non-null  int64  \n",
      " 2   OVERAGE                     18000 non-null  int64  \n",
      " 3   LEFTOVER                    18000 non-null  int64  \n",
      " 4   HOUSE                       17785 non-null  float64\n",
      " 5   HANDSET_PRICE               18000 non-null  int64  \n",
      " 6   AVERAGE_CALL_DURATION       18000 non-null  int64  \n",
      " 7   REPORTED_SATISFACTION       17962 non-null  object \n",
      " 8   CONSIDERING_CHANGE_OF_PLAN  18000 non-null  object \n",
      " 9   CHURN                       18000 non-null  int64  \n",
      "dtypes: float64(1), int64(7), object(2)\n",
      "memory usage: 1.4+ MB\n"
     ]
    }
   ],
   "source": [
    "mobile.info()"
   ]
  },
  {
   "cell_type": "code",
   "execution_count": 285,
   "metadata": {},
   "outputs": [
    {
     "data": {
      "text/html": [
       "<div>\n",
       "<style scoped>\n",
       "    .dataframe tbody tr th:only-of-type {\n",
       "        vertical-align: middle;\n",
       "    }\n",
       "\n",
       "    .dataframe tbody tr th {\n",
       "        vertical-align: top;\n",
       "    }\n",
       "\n",
       "    .dataframe thead th {\n",
       "        text-align: right;\n",
       "    }\n",
       "</style>\n",
       "<table border=\"1\" class=\"dataframe\">\n",
       "  <thead>\n",
       "    <tr style=\"text-align: right;\">\n",
       "      <th></th>\n",
       "      <th>COLLEGE</th>\n",
       "      <th>INCOME</th>\n",
       "      <th>OVERAGE</th>\n",
       "      <th>LEFTOVER</th>\n",
       "      <th>HOUSE</th>\n",
       "      <th>HANDSET_PRICE</th>\n",
       "      <th>AVERAGE_CALL_DURATION</th>\n",
       "      <th>REPORTED_SATISFACTION</th>\n",
       "      <th>CONSIDERING_CHANGE_OF_PLAN</th>\n",
       "      <th>CHURN</th>\n",
       "    </tr>\n",
       "  </thead>\n",
       "  <tbody>\n",
       "    <tr>\n",
       "      <th>3308</th>\n",
       "      <td>0</td>\n",
       "      <td>92956</td>\n",
       "      <td>-2</td>\n",
       "      <td>0</td>\n",
       "      <td>816777.0</td>\n",
       "      <td>274</td>\n",
       "      <td>2</td>\n",
       "      <td>very_unsat</td>\n",
       "      <td>considering</td>\n",
       "      <td>0</td>\n",
       "    </tr>\n",
       "  </tbody>\n",
       "</table>\n",
       "</div>"
      ],
      "text/plain": [
       "      COLLEGE  INCOME  OVERAGE  LEFTOVER     HOUSE  HANDSET_PRICE  \\\n",
       "3308        0   92956       -2         0  816777.0            274   \n",
       "\n",
       "      AVERAGE_CALL_DURATION REPORTED_SATISFACTION CONSIDERING_CHANGE_OF_PLAN  \\\n",
       "3308                      2            very_unsat                considering   \n",
       "\n",
       "      CHURN  \n",
       "3308      0  "
      ]
     },
     "execution_count": 285,
     "metadata": {},
     "output_type": "execute_result"
    }
   ],
   "source": [
    "mobile[mobile['OVERAGE']==-2]"
   ]
  },
  {
   "cell_type": "code",
   "execution_count": null,
   "metadata": {},
   "outputs": [],
   "source": []
  }
 ],
 "metadata": {
  "colab": {
   "collapsed_sections": [],
   "name": "과제2. Mobile 고객 이탈 분석.ipynb",
   "provenance": [],
   "toc_visible": true
  },
  "kernelspec": {
   "display_name": "Python 3",
   "language": "python",
   "name": "python3"
  },
  "language_info": {
   "codemirror_mode": {
    "name": "ipython",
    "version": 3
   },
   "file_extension": ".py",
   "mimetype": "text/x-python",
   "name": "python",
   "nbconvert_exporter": "python",
   "pygments_lexer": "ipython3",
   "version": "3.8.8"
  }
 },
 "nbformat": 4,
 "nbformat_minor": 1
}
